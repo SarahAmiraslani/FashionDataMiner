{
 "cells": [
  {
   "cell_type": "code",
   "execution_count": 11,
   "metadata": {},
   "outputs": [
    {
     "ename": "ModuleNotFoundError",
     "evalue": "No module named 'webdriver_manager'",
     "output_type": "error",
     "traceback": [
      "\u001b[1;31m---------------------------------------------------------------------------\u001b[0m",
      "\u001b[1;31mModuleNotFoundError\u001b[0m                       Traceback (most recent call last)",
      "\u001b[1;32m<ipython-input-11-3efb9d4908eb>\u001b[0m in \u001b[0;36m<module>\u001b[1;34m\u001b[0m\n\u001b[0;32m     21\u001b[0m \u001b[1;32mimport\u001b[0m \u001b[0mconcurrent\u001b[0m\u001b[1;33m.\u001b[0m\u001b[0mfutures\u001b[0m\u001b[1;33m\u001b[0m\u001b[1;33m\u001b[0m\u001b[0m\n\u001b[0;32m     22\u001b[0m \u001b[1;32mfrom\u001b[0m \u001b[0mtqdm\u001b[0m \u001b[1;32mimport\u001b[0m \u001b[0mtqdm\u001b[0m\u001b[1;33m\u001b[0m\u001b[1;33m\u001b[0m\u001b[0m\n\u001b[1;32m---> 23\u001b[1;33m \u001b[1;32mfrom\u001b[0m \u001b[0mwebdriver_manager\u001b[0m\u001b[1;33m.\u001b[0m\u001b[0mchrome\u001b[0m \u001b[1;32mimport\u001b[0m \u001b[0mChromeDriverManager\u001b[0m\u001b[1;33m\u001b[0m\u001b[1;33m\u001b[0m\u001b[0m\n\u001b[0m",
      "\u001b[1;31mModuleNotFoundError\u001b[0m: No module named 'webdriver_manager'"
     ]
    }
   ],
   "source": [
    "from selenium import webdriver\n",
    "from selenium.webdriver.common.keys import Keys\n",
    "from selenium.webdriver.support.ui import WebDriverWait\n",
    "from selenium.webdriver.support import expected_conditions as EC\n",
    "from selenium.webdriver.common.by import By\n",
    "from selenium.webdriver.support.ui import WebDriverWait\n",
    "from selenium.common.exceptions import TimeoutException, StaleElementReferenceException, NoSuchElementException\n",
    "import pandas as pd\n",
    "import numpy as np\n",
    "import matplotlib.pyplot as plt\n",
    "import json\n",
    "from bs4 import BeautifulSoup\n",
    "import requests\n",
    "import re\n",
    "import itertools\n",
    "import time\n",
    "from multiprocessing.pool import Pool\n",
    "from multiprocessing import current_process\n",
    "from functools import partial\n",
    "import csv\n",
    "import concurrent.futures\n",
    "from tqdm import tqdm\n",
    "from webdriver_manager.chrome import ChromeDriverManager"
   ]
  },
  {
   "cell_type": "markdown",
   "metadata": {},
   "source": [
    "# Main Functions"
   ]
  },
  {
   "cell_type": "code",
   "execution_count": 4,
   "metadata": {},
   "outputs": [],
   "source": [
    "def get_cat(full_url):\n",
    "    # Input: Page with cltohing types\n",
    "    # Output: List of URLs of all types\n",
    "\n",
    "    # Selenium driver\n",
    "    user_agent = 'Mozilla/5.0 (Macintosh; Intel Mac OS X 10_15_6) AppleWebKit/605.1.15 (KHTML, like Gecko) Version/14.0 Safari/605.1.15'\n",
    "    #path = '/Users/anu/going_headless/chromedriver_mac64/chromedriver'\n",
    "    options = webdriver.ChromeOptions()\n",
    "    options.add_argument('--headless')\n",
    "    options.add_argument(\"--window-size=1920,1080\")\n",
    "    options.add_argument('--ignore-certificate-errors')\n",
    "    options.add_argument('--allow-running-insecure-content')\n",
    "    options.add_argument(f'user-agent={user_agent}')\n",
    "    options.binary_location = '/Applications/Google Chrome Canary.app/Contents/MacOS/Google Chrome Canary'\n",
    "    driver = webdriver.Chrome(executable_path =  ChromeDriverManager().install(), options=options)\n",
    "    driver.get(full_url)\n",
    "    \n",
    "    elems = driver.find_elements_by_class_name(\"card__link-full\")\n",
    "    cat_list = [elem.get_attribute('href') for elem in elems]\n",
    "\n",
    "    driver.quit()\n",
    "    \n",
    "    return cat_list"
   ]
  },
  {
   "cell_type": "code",
   "execution_count": 5,
   "metadata": {},
   "outputs": [
    {
     "ename": "NameError",
     "evalue": "name 'ChromeDriverManager' is not defined",
     "output_type": "error",
     "traceback": [
      "\u001b[1;31m---------------------------------------------------------------------------\u001b[0m",
      "\u001b[1;31mNameError\u001b[0m                                 Traceback (most recent call last)",
      "\u001b[1;32m<ipython-input-5-55f3a1c760d7>\u001b[0m in \u001b[0;36m<module>\u001b[1;34m\u001b[0m\n\u001b[1;32m----> 1\u001b[1;33m \u001b[0mcat_list\u001b[0m \u001b[1;33m=\u001b[0m \u001b[0mget_cat\u001b[0m\u001b[1;33m(\u001b[0m\u001b[1;34m'https://www.patagonia.com/shop/womens'\u001b[0m\u001b[1;33m)\u001b[0m\u001b[1;33m\u001b[0m\u001b[1;33m\u001b[0m\u001b[0m\n\u001b[0m",
      "\u001b[1;32m<ipython-input-4-1e9b9a65a2ab>\u001b[0m in \u001b[0;36mget_cat\u001b[1;34m(full_url)\u001b[0m\n\u001b[0;32m      6\u001b[0m     \u001b[0muser_agent\u001b[0m \u001b[1;33m=\u001b[0m \u001b[1;34m'Mozilla/5.0 (Macintosh; Intel Mac OS X 10_15_6) AppleWebKit/605.1.15 (KHTML, like Gecko) Version/14.0 Safari/605.1.15'\u001b[0m\u001b[1;33m\u001b[0m\u001b[1;33m\u001b[0m\u001b[0m\n\u001b[0;32m      7\u001b[0m     \u001b[1;31m#path = '/Users/anu/going_headless/chromedriver_mac64/chromedriver'\u001b[0m\u001b[1;33m\u001b[0m\u001b[1;33m\u001b[0m\u001b[1;33m\u001b[0m\u001b[0m\n\u001b[1;32m----> 8\u001b[1;33m     \u001b[0mdrivermanager\u001b[0m \u001b[1;33m=\u001b[0m \u001b[0mChromeDriverManager\u001b[0m\u001b[1;33m(\u001b[0m\u001b[1;33m)\u001b[0m\u001b[1;33m.\u001b[0m\u001b[0minstall\u001b[0m\u001b[1;33m(\u001b[0m\u001b[1;33m)\u001b[0m\u001b[1;33m\u001b[0m\u001b[1;33m\u001b[0m\u001b[0m\n\u001b[0m\u001b[0;32m      9\u001b[0m     \u001b[0moptions\u001b[0m \u001b[1;33m=\u001b[0m \u001b[0mwebdriver\u001b[0m\u001b[1;33m.\u001b[0m\u001b[0mChromeOptions\u001b[0m\u001b[1;33m(\u001b[0m\u001b[1;33m)\u001b[0m\u001b[1;33m\u001b[0m\u001b[1;33m\u001b[0m\u001b[0m\n\u001b[0;32m     10\u001b[0m     \u001b[0moptions\u001b[0m\u001b[1;33m.\u001b[0m\u001b[0madd_argument\u001b[0m\u001b[1;33m(\u001b[0m\u001b[1;34m'--headless'\u001b[0m\u001b[1;33m)\u001b[0m\u001b[1;33m\u001b[0m\u001b[1;33m\u001b[0m\u001b[0m\n",
      "\u001b[1;31mNameError\u001b[0m: name 'ChromeDriverManager' is not defined"
     ]
    }
   ],
   "source": [
    "cat_list = get_cat('https://www.patagonia.com/shop/womens')"
   ]
  },
  {
   "cell_type": "code",
   "execution_count": null,
   "metadata": {},
   "outputs": [],
   "source": [
    "cat_list.pop(0)\n",
    "cat_list"
   ]
  },
  {
   "cell_type": "code",
   "execution_count": null,
   "metadata": {},
   "outputs": [],
   "source": [
    "cat_dict = {}"
   ]
  },
  {
   "cell_type": "code",
   "execution_count": null,
   "metadata": {},
   "outputs": [],
   "source": [
    "def cat_itemize(cat_url):\n",
    "    # Input: URL of each category\n",
    "    # Output: List of URLs of all items in each category\n",
    "    \n",
    "    global cat_dict\n",
    "\n",
    "    user_agent = 'Mozilla/5.0 (Macintosh; Intel Mac OS X 10_15_6) AppleWebKit/605.1.15 (KHTML, like Gecko) Version/14.0 Safari/605.1.15'\n",
    "    path = '/Users/anu/going_headless/chromedriver_mac64/chromedriver'\n",
    "    options = webdriver.ChromeOptions()\n",
    "    options.add_argument('--headless')\n",
    "    options.add_argument(\"--window-size=1920,1080\")\n",
    "    options.add_argument('--ignore-certificate-errors')\n",
    "    options.add_argument('--allow-running-insecure-content')\n",
    "    options.add_argument(f'user-agent={user_agent}')\n",
    "    options.binary_location = '/Applications/Google Chrome Canary.app/Contents/MacOS/Google Chrome Canary'\n",
    "    driver = webdriver.Chrome(executable_path = path, options=options)\n",
    "    driver.get(cat_url)\n",
    "    \n",
    "    # Name of the category\n",
    "    cat_name = driver.find_element_by_xpath('/html/body/main/section/div[3]/div[1]/div/div[1]/div/div[1]/div').text\n",
    "\n",
    "    if cat_name not in cat_dict:\n",
    "        driver.get(cat_url)\n",
    "        # If more than one page, click \"LOAD MORE\"\n",
    "        while True:\n",
    "            try:\n",
    "                WebDriverWait(driver, 20).until(EC.presence_of_element_located((By.CSS_SELECTOR, \"#product-search-results > div:nth-child(2) > div > div > div.row.product-grid.load-more-present > div.col-12.grid-footer > div.show-more.is-desktop-only > div > button\")))\n",
    "                button = driver.find_element_by_css_selector(\"#product-search-results > div:nth-child(2) > div > div > div.row.product-grid.load-more-present > div.col-12.grid-footer > div.show-more.is-desktop-only > div > button\")\n",
    "                button.location_once_scrolled_into_view\n",
    "                button.click()\n",
    "                time.sleep(5)\n",
    "            except NoSuchElementException:\n",
    "                break\n",
    "            except TimeoutException:\n",
    "                break\n",
    "\n",
    "        all_items = driver.find_element_by_xpath(\"//*[@id='product-search-results']/div[2]/div/div/div[2]\")\n",
    "        items = all_items.find_elements_by_class_name(\"product-tile\")\n",
    "        cat_items = [item.get_attribute('data-monetate-producturl') for item in items]\n",
    "\n",
    "        cat_dict[cat_name] = cat_items\n",
    "        driver.quit()\n",
    "    \n",
    "    return cat_dict"
   ]
  },
  {
   "cell_type": "code",
   "execution_count": null,
   "metadata": {},
   "outputs": [],
   "source": [
    "with open('patagonia_items.json', 'a') as bm:\n",
    "    bm.write(json.dumps(cat_dict))"
   ]
  },
  {
   "cell_type": "markdown",
   "metadata": {},
   "source": [
    "for i in range(len(cat_list)):\n",
    "    cat_itemize(cat_list[i])"
   ]
  },
  {
   "cell_type": "code",
   "execution_count": null,
   "metadata": {},
   "outputs": [],
   "source": [
    "with open('patagonia_items.json') as d:\n",
    "    cat_dict_load = json.loads(\"[\" + \n",
    "        d.read().replace(\"}{\", \"},\\n{\") + \n",
    "    \"]\")"
   ]
  },
  {
   "cell_type": "code",
   "execution_count": null,
   "metadata": {},
   "outputs": [
    {
     "data": {
      "text/plain": [
       "'https://www.patagonia.com/product/womens-organic-cotton-quilt-snap-t-pullover/25282.html'"
      ]
     },
     "execution_count": 5,
     "metadata": {},
     "output_type": "execute_result"
    }
   ],
   "source": [
    "a = list(cat_dict_load[1].values())\n",
    "\n",
    "a[0][0]"
   ]
  },
  {
   "cell_type": "code",
   "execution_count": null,
   "metadata": {},
   "outputs": [
    {
     "data": {
      "text/plain": [
       "770"
      ]
     },
     "execution_count": 6,
     "metadata": {},
     "output_type": "execute_result"
    }
   ],
   "source": [
    "patag_url_list = []\n",
    "for i in range(len(cat_dict_load)):\n",
    "    l = list(cat_dict_load[i].values())\n",
    "    for j in range(len(l[0])):\n",
    "        patag_url_list.append(l[0][j])\n",
    "len(patag_url_list)"
   ]
  },
  {
   "cell_type": "code",
   "execution_count": null,
   "metadata": {},
   "outputs": [
    {
     "data": {
      "text/plain": [
       "'https://www.patagonia.com/product/womens-torrentshell-3l-rain-jacket/85245.html'"
      ]
     },
     "execution_count": 7,
     "metadata": {},
     "output_type": "execute_result"
    }
   ],
   "source": [
    "patag_url = patag_url_list[0]\n",
    "patag_url"
   ]
  },
  {
   "cell_type": "code",
   "execution_count": null,
   "metadata": {},
   "outputs": [],
   "source": [
    "url_list = []"
   ]
  },
  {
   "cell_type": "code",
   "execution_count": null,
   "metadata": {},
   "outputs": [],
   "source": [
    "def patag_scraper(patag_url_list, url_list):\n",
    "  \n",
    "    # Input: URL from Patagonia\n",
    "    # Output: DF with results\n",
    "    \n",
    "    # Define empty lists to store results and log of failed URLs\n",
    "    failed = []\n",
    "    results = []\n",
    "        \n",
    "    for patag_url in tqdm(patag_url_list):\n",
    "        if patag_url not in url_list:\n",
    "            # Empty dictionary to store output\n",
    "            patag_results = {}\n",
    "\n",
    "            # Beautiful soup driver\n",
    "            HEADERS = {\n",
    "                'User-Agent': 'Mozilla/5.0 (Macintosh; Intel Mac OS X 10_15_6) AppleWebKit/537.36 (KHTML, like Gecko) Chrome/86.0.4238.2  Safari/537.36',\n",
    "            }\n",
    "            content = requests.get(patag_url, headers=HEADERS)\n",
    "            soup = BeautifulSoup(content.text, 'html.parser')\n",
    "\n",
    "            # Selenium driver\n",
    "            user_agent = 'Mozilla/5.0 (Macintosh; Intel Mac OS X 10_15_6) AppleWebKit/537.36 (KHTML, like Gecko) Chrome/86.0.4238.2  Safari/537.36'\n",
    "            path = '/Users/anu/going_headless/chromedriver_mac64/chromedriver'\n",
    "            options = webdriver.ChromeOptions()\n",
    "            options.add_argument('--headless')\n",
    "            options.add_argument(\"--window-size=1920,1080\")\n",
    "            options.add_argument('--ignore-certificate-errors')\n",
    "            options.add_argument('--allow-running-insecure-content')\n",
    "            options.add_argument(f'user-agent={user_agent}')\n",
    "            options.binary_location = '/Applications/Google Chrome Canary.app/Contents/MacOS/Google Chrome Canary'\n",
    "            driver = webdriver.Chrome(executable_path = path, options=options)\n",
    "            driver.get(patag_url)\n",
    "\n",
    "            # Check if product is in stock\n",
    "            try:\n",
    "#                 outofstock = driver.find_element_by_xpath('//*[@id=\"oos-label\"]/h3').text\n",
    "#                 if NoSuchElementException:\n",
    "#                     pass\n",
    "#                 if outofstock=='OUT OF STOCK':\n",
    "#                     failed.append(patag_url)\n",
    "#                     pass\n",
    "\n",
    "#                 else:\n",
    "                # Name of product\n",
    "                patag_name = soup.find('div', {\"class\":\"hero-pdp__intro-content\"}).h1.get_text()\n",
    "                patag_results['Name'] = patag_name\n",
    "\n",
    "                # Material of product\n",
    "                # *Click \"Specs & Features\" button*\n",
    "                button = driver.find_element_by_xpath(\"/html/body/main/section/div[4]/section/div[2]/div/div/div/div/a\")\n",
    "                button.click()\n",
    "                patag_mat = [el.text for el in driver.find_elements_by_xpath(\"/html/body/main/section/div[4]/section/div[4]/div/div/div/ul\")]\n",
    "                patag_results['Material'] = patag_mat\n",
    "\n",
    "                # Color of product\n",
    "                patag_color = []\n",
    "                for color in soup.find('div', {\"class\":\"row swiper-wrapper\"}).find_all('h3',{'class':'product-tile__name'}):\n",
    "                    patag_color.append(color.get_text())\n",
    "                patag_results['Color'] = patag_color\n",
    "\n",
    "                # URL of product\n",
    "                patag_results['URL'] = patag_url\n",
    "\n",
    "                # Image tag of product\n",
    "                patag_image = []\n",
    "                for img in soup.find('div', {\"class\":\"row swiper-wrapper\"}).find_all('div',{'data-image-zoom-url':True}):\n",
    "                    patag_image.append(img['data-image-zoom-url'])        \n",
    "                patag_results['Image'] = patag_image\n",
    "\n",
    "                # Dict of Color : Image URL\n",
    "                clr_img_dict = {}\n",
    "                for color in patag_color:\n",
    "                    for img in patag_image:\n",
    "                        clr_img_dict[color] = img\n",
    "                patag_results['Color:Image'] = clr_img_dict\n",
    "\n",
    "                # Description of product\n",
    "                patag_description = [desc.text for desc in driver.find_elements_by_xpath(\"/html/body/main/section/div[4]/section/div[3]/div/div/div/ul\")]\n",
    "                patag_results['Description'] = patag_description\n",
    "\n",
    "                # Add dict output to list\n",
    "                results.append(patag_results)\n",
    "\n",
    "            except (NoSuchElementException, AttributeError):\n",
    "                if NoSuchElementException:\n",
    "                    failed.append(patag_url)\n",
    "                elif AttributeError:\n",
    "                    failed.append(patag_url)\n",
    "                pass\n",
    "    \n",
    "\n",
    "            if len(results) > 0:            \n",
    "                f = open(\"patag_table.csv\", \"a\")\n",
    "                writer = csv.DictWriter(\n",
    "                    f, fieldnames=['Name', 'Material', 'Color', 'URL', 'Image', 'Color:Image', 'Description'])\n",
    "                writer.writeheader()\n",
    "                writer.writerows(results)\n",
    "                f.close()\n",
    "                results = []\n",
    "            if len(failed) > 0:\n",
    "                with open(\"failed_patag.txt\", 'a') as ft:\n",
    "                    for row in failed:\n",
    "                        ft.write(str(row) + '\\n')\n",
    "                failed = []"
   ]
  },
  {
   "cell_type": "markdown",
   "metadata": {},
   "source": [
    "# Scraper"
   ]
  },
  {
   "cell_type": "code",
   "execution_count": null,
   "metadata": {},
   "outputs": [
    {
     "name": "stdout",
     "output_type": "stream",
     "text": [
      "614 https://www.patagonia.com/product/womens-micro-d-snap-t-fleece-pullover/26020.html\n"
     ]
    }
   ],
   "source": [
    "patag_urls = patag_url_list[156:]\n",
    "print(len(patag_urls), patag_urls[0])\n"
   ]
  },
  {
   "cell_type": "code",
   "execution_count": null,
   "metadata": {},
   "outputs": [],
   "source": [
    "patag_url_list[570]"
   ]
  },
  {
   "cell_type": "code",
   "execution_count": null,
   "metadata": {
    "scrolled": false
   },
   "outputs": [
    {
     "name": "stderr",
     "output_type": "stream",
     "text": [
      "100%|██████████| 199/199 [12:23<00:00,  3.73s/it]\n"
     ]
    }
   ],
   "source": [
    "patag_scraper(patag_url_list[571:], url_list)"
   ]
  },
  {
   "cell_type": "code",
   "execution_count": null,
   "metadata": {},
   "outputs": [
    {
     "data": {
      "text/plain": [
       "225"
      ]
     },
     "execution_count": 51,
     "metadata": {},
     "output_type": "execute_result"
    }
   ],
   "source": [
    "failed = open('failed_patag.txt','r').readlines()\n",
    "len(failed)"
   ]
  },
  {
   "cell_type": "code",
   "execution_count": null,
   "metadata": {},
   "outputs": [
    {
     "data": {
      "text/plain": [
       "95"
      ]
     },
     "execution_count": 52,
     "metadata": {},
     "output_type": "execute_result"
    }
   ],
   "source": [
    "f = list(set(failed))\n",
    "len(f)"
   ]
  },
  {
   "cell_type": "code",
   "execution_count": null,
   "metadata": {
    "scrolled": false
   },
   "outputs": [
    {
     "data": {
      "text/html": [
       "<div>\n",
       "<style scoped>\n",
       "    .dataframe tbody tr th:only-of-type {\n",
       "        vertical-align: middle;\n",
       "    }\n",
       "\n",
       "    .dataframe tbody tr th {\n",
       "        vertical-align: top;\n",
       "    }\n",
       "\n",
       "    .dataframe thead th {\n",
       "        text-align: right;\n",
       "    }\n",
       "</style>\n",
       "<table border=\"1\" class=\"dataframe\">\n",
       "  <thead>\n",
       "    <tr style=\"text-align: right;\">\n",
       "      <th></th>\n",
       "      <th>Name</th>\n",
       "      <th>Material</th>\n",
       "      <th>Color</th>\n",
       "      <th>URL</th>\n",
       "      <th>Image</th>\n",
       "      <th>Color:Image</th>\n",
       "      <th>Description</th>\n",
       "    </tr>\n",
       "  </thead>\n",
       "  <tbody>\n",
       "    <tr>\n",
       "      <th>0</th>\n",
       "      <td>Women's Torrentshell 3L Jacket</td>\n",
       "      <td>['H2No® Performance Standard shell: 3-layer, 3...</td>\n",
       "      <td>['Cornice Grey (CORG)', 'Catalan Coral (CCRL)'...</td>\n",
       "      <td>https://www.patagonia.com/product/womens-torre...</td>\n",
       "      <td>['https://www.patagonia.com/dw/image/v2/BDJB_P...</td>\n",
       "      <td>{'Cornice Grey (CORG)': 'https://www.patagonia...</td>\n",
       "      <td>['100% Recycled Waterproof/Breathable Face Fab...</td>\n",
       "    </tr>\n",
       "    <tr>\n",
       "      <th>1</th>\n",
       "      <td>Women's Nano Puff® Jacket</td>\n",
       "      <td>['Shell: 1.4-oz 20-denier 100% recycled polyes...</td>\n",
       "      <td>['Birch White (BCW)', 'Black (BLK)', 'Feather ...</td>\n",
       "      <td>https://www.patagonia.com/product/womens-nano-...</td>\n",
       "      <td>['https://www.patagonia.com/dw/image/v2/BDJB_P...</td>\n",
       "      <td>{'Birch White (BCW)': 'https://www.patagonia.c...</td>\n",
       "      <td>['100% Recycled Shell Fabric\\nLightweight 100%...</td>\n",
       "    </tr>\n",
       "    <tr>\n",
       "      <th>2</th>\n",
       "      <td>Women's Rainshadow Jacket</td>\n",
       "      <td>['H2No® Performance Standard shell: 3-layer, 3...</td>\n",
       "      <td>['Classic Navy (CNY)', 'Roamer Red (RMRE)', 'C...</td>\n",
       "      <td>https://www.patagonia.com/product/womens-rains...</td>\n",
       "      <td>['https://www.patagonia.com/dw/image/v2/BDJB_P...</td>\n",
       "      <td>{'Classic Navy (CNY)': 'https://www.patagonia....</td>\n",
       "      <td>['Stretch 3-Layer H2No Performance Standard Sh...</td>\n",
       "    </tr>\n",
       "    <tr>\n",
       "      <th>3</th>\n",
       "      <td>Women's Calcite Jacket</td>\n",
       "      <td>['2.5-layer, 3.4-oz 75-denier 100% recycled po...</td>\n",
       "      <td>['Feather Grey (FEA)', 'Classic Navy (CNY)', '...</td>\n",
       "      <td>https://www.patagonia.com/product/womens-calci...</td>\n",
       "      <td>['https://www.patagonia.com/dw/image/v2/BDJB_P...</td>\n",
       "      <td>{'Feather Grey (FEA)': 'https://www.patagonia....</td>\n",
       "      <td>['Lightweight and Packable\\nLight and packable...</td>\n",
       "    </tr>\n",
       "    <tr>\n",
       "      <th>4</th>\n",
       "      <td>Women's Down Sweater Jacket</td>\n",
       "      <td>['Shell: 1.4-oz 20x30-denier 100% recycled pol...</td>\n",
       "      <td>['Cornice Grey (CORG)', 'Black (BLK)', 'Birch ...</td>\n",
       "      <td>https://www.patagonia.com/product/womens-down-...</td>\n",
       "      <td>['https://www.patagonia.com/dw/image/v2/BDJB_P...</td>\n",
       "      <td>{'Cornice Grey (CORG)': 'https://www.patagonia...</td>\n",
       "      <td>['100% Recycled Shell Fabric\\nDurable shell fa...</td>\n",
       "    </tr>\n",
       "    <tr>\n",
       "      <th>...</th>\n",
       "      <td>...</td>\n",
       "      <td>...</td>\n",
       "      <td>...</td>\n",
       "      <td>...</td>\n",
       "      <td>...</td>\n",
       "      <td>...</td>\n",
       "      <td>...</td>\n",
       "    </tr>\n",
       "    <tr>\n",
       "      <th>1063</th>\n",
       "      <td>Women's Insulated Prairie Dawn Parka</td>\n",
       "      <td>['Body: 8-oz 100% organic cotton canvas\\nLinin...</td>\n",
       "      <td>['Smolder Blue w/Smolder Blue (SMSB)', 'Sage K...</td>\n",
       "      <td>https://www.patagonia.com/product/womens-insul...</td>\n",
       "      <td>['https://www.patagonia.com/dw/image/v2/BDJB_P...</td>\n",
       "      <td>{'Smolder Blue w/Smolder Blue (SMSB)': 'https:...</td>\n",
       "      <td>['Fleece-Lined Organic Cotton Canvas/Thermogre...</td>\n",
       "    </tr>\n",
       "    <tr>\n",
       "      <th>1064</th>\n",
       "      <td>Name</td>\n",
       "      <td>Material</td>\n",
       "      <td>Color</td>\n",
       "      <td>URL</td>\n",
       "      <td>Image</td>\n",
       "      <td>Color:Image</td>\n",
       "      <td>Description</td>\n",
       "    </tr>\n",
       "    <tr>\n",
       "      <th>1065</th>\n",
       "      <td>Women's Kamala Cropped Pants</td>\n",
       "      <td>['5.1-oz 55% organic cotton/41% TENCEL™ lyocel...</td>\n",
       "      <td>['Black (BLK)', 'Kale Green (KAGR)']</td>\n",
       "      <td>https://www.patagonia.com/product/womens-kamal...</td>\n",
       "      <td>['https://www.patagonia.com/dw/image/v2/BDJB_P...</td>\n",
       "      <td>{'Black (BLK)': 'https://www.patagonia.com/dw/...</td>\n",
       "      <td>['100% Organic Cotton/TENCEL™ Lyocell/Spandex ...</td>\n",
       "    </tr>\n",
       "    <tr>\n",
       "      <th>1066</th>\n",
       "      <td>Name</td>\n",
       "      <td>Material</td>\n",
       "      <td>Color</td>\n",
       "      <td>URL</td>\n",
       "      <td>Image</td>\n",
       "      <td>Color:Image</td>\n",
       "      <td>Description</td>\n",
       "    </tr>\n",
       "    <tr>\n",
       "      <th>1067</th>\n",
       "      <td>Women's Hooded Waffle Tunic</td>\n",
       "      <td>['Body: 7.2-oz 56% organic cotton/41% TENCEL™ ...</td>\n",
       "      <td>['Smolder Blue (SMDB)', 'Light Balsamic (LIT)']</td>\n",
       "      <td>https://www.patagonia.com/product/womens-hoode...</td>\n",
       "      <td>['https://www.patagonia.com/dw/image/v2/BDJB_P...</td>\n",
       "      <td>{'Smolder Blue (SMDB)': 'https://www.patagonia...</td>\n",
       "      <td>['Tunic Silhouette\\nSimple but elegant post-wo...</td>\n",
       "    </tr>\n",
       "  </tbody>\n",
       "</table>\n",
       "<p>1068 rows × 7 columns</p>\n",
       "</div>"
      ],
      "text/plain": [
       "                                      Name  \\\n",
       "0           Women's Torrentshell 3L Jacket   \n",
       "1                Women's Nano Puff® Jacket   \n",
       "2                Women's Rainshadow Jacket   \n",
       "3                   Women's Calcite Jacket   \n",
       "4              Women's Down Sweater Jacket   \n",
       "...                                    ...   \n",
       "1063  Women's Insulated Prairie Dawn Parka   \n",
       "1064                                  Name   \n",
       "1065          Women's Kamala Cropped Pants   \n",
       "1066                                  Name   \n",
       "1067           Women's Hooded Waffle Tunic   \n",
       "\n",
       "                                               Material  \\\n",
       "0     ['H2No® Performance Standard shell: 3-layer, 3...   \n",
       "1     ['Shell: 1.4-oz 20-denier 100% recycled polyes...   \n",
       "2     ['H2No® Performance Standard shell: 3-layer, 3...   \n",
       "3     ['2.5-layer, 3.4-oz 75-denier 100% recycled po...   \n",
       "4     ['Shell: 1.4-oz 20x30-denier 100% recycled pol...   \n",
       "...                                                 ...   \n",
       "1063  ['Body: 8-oz 100% organic cotton canvas\\nLinin...   \n",
       "1064                                           Material   \n",
       "1065  ['5.1-oz 55% organic cotton/41% TENCEL™ lyocel...   \n",
       "1066                                           Material   \n",
       "1067  ['Body: 7.2-oz 56% organic cotton/41% TENCEL™ ...   \n",
       "\n",
       "                                                  Color  \\\n",
       "0     ['Cornice Grey (CORG)', 'Catalan Coral (CCRL)'...   \n",
       "1     ['Birch White (BCW)', 'Black (BLK)', 'Feather ...   \n",
       "2     ['Classic Navy (CNY)', 'Roamer Red (RMRE)', 'C...   \n",
       "3     ['Feather Grey (FEA)', 'Classic Navy (CNY)', '...   \n",
       "4     ['Cornice Grey (CORG)', 'Black (BLK)', 'Birch ...   \n",
       "...                                                 ...   \n",
       "1063  ['Smolder Blue w/Smolder Blue (SMSB)', 'Sage K...   \n",
       "1064                                              Color   \n",
       "1065               ['Black (BLK)', 'Kale Green (KAGR)']   \n",
       "1066                                              Color   \n",
       "1067    ['Smolder Blue (SMDB)', 'Light Balsamic (LIT)']   \n",
       "\n",
       "                                                    URL  \\\n",
       "0     https://www.patagonia.com/product/womens-torre...   \n",
       "1     https://www.patagonia.com/product/womens-nano-...   \n",
       "2     https://www.patagonia.com/product/womens-rains...   \n",
       "3     https://www.patagonia.com/product/womens-calci...   \n",
       "4     https://www.patagonia.com/product/womens-down-...   \n",
       "...                                                 ...   \n",
       "1063  https://www.patagonia.com/product/womens-insul...   \n",
       "1064                                                URL   \n",
       "1065  https://www.patagonia.com/product/womens-kamal...   \n",
       "1066                                                URL   \n",
       "1067  https://www.patagonia.com/product/womens-hoode...   \n",
       "\n",
       "                                                  Image  \\\n",
       "0     ['https://www.patagonia.com/dw/image/v2/BDJB_P...   \n",
       "1     ['https://www.patagonia.com/dw/image/v2/BDJB_P...   \n",
       "2     ['https://www.patagonia.com/dw/image/v2/BDJB_P...   \n",
       "3     ['https://www.patagonia.com/dw/image/v2/BDJB_P...   \n",
       "4     ['https://www.patagonia.com/dw/image/v2/BDJB_P...   \n",
       "...                                                 ...   \n",
       "1063  ['https://www.patagonia.com/dw/image/v2/BDJB_P...   \n",
       "1064                                              Image   \n",
       "1065  ['https://www.patagonia.com/dw/image/v2/BDJB_P...   \n",
       "1066                                              Image   \n",
       "1067  ['https://www.patagonia.com/dw/image/v2/BDJB_P...   \n",
       "\n",
       "                                            Color:Image  \\\n",
       "0     {'Cornice Grey (CORG)': 'https://www.patagonia...   \n",
       "1     {'Birch White (BCW)': 'https://www.patagonia.c...   \n",
       "2     {'Classic Navy (CNY)': 'https://www.patagonia....   \n",
       "3     {'Feather Grey (FEA)': 'https://www.patagonia....   \n",
       "4     {'Cornice Grey (CORG)': 'https://www.patagonia...   \n",
       "...                                                 ...   \n",
       "1063  {'Smolder Blue w/Smolder Blue (SMSB)': 'https:...   \n",
       "1064                                        Color:Image   \n",
       "1065  {'Black (BLK)': 'https://www.patagonia.com/dw/...   \n",
       "1066                                        Color:Image   \n",
       "1067  {'Smolder Blue (SMDB)': 'https://www.patagonia...   \n",
       "\n",
       "                                            Description  \n",
       "0     ['100% Recycled Waterproof/Breathable Face Fab...  \n",
       "1     ['100% Recycled Shell Fabric\\nLightweight 100%...  \n",
       "2     ['Stretch 3-Layer H2No Performance Standard Sh...  \n",
       "3     ['Lightweight and Packable\\nLight and packable...  \n",
       "4     ['100% Recycled Shell Fabric\\nDurable shell fa...  \n",
       "...                                                 ...  \n",
       "1063  ['Fleece-Lined Organic Cotton Canvas/Thermogre...  \n",
       "1064                                        Description  \n",
       "1065  ['100% Organic Cotton/TENCEL™ Lyocell/Spandex ...  \n",
       "1066                                        Description  \n",
       "1067  ['Tunic Silhouette\\nSimple but elegant post-wo...  \n",
       "\n",
       "[1068 rows x 7 columns]"
      ]
     },
     "execution_count": 53,
     "metadata": {},
     "output_type": "execute_result"
    }
   ],
   "source": [
    "patag_df = pd.read_csv('patag_table.csv')\n",
    "patag_df"
   ]
  },
  {
   "cell_type": "code",
   "execution_count": null,
   "metadata": {},
   "outputs": [],
   "source": [
    "patag_df = patag_df.drop_duplicates()\n",
    "patag_df.index = range(len(patag_df))\n",
    "patag_df.to_csv('patag_table.csv', index=False)"
   ]
  },
  {
   "cell_type": "code",
   "execution_count": null,
   "metadata": {},
   "outputs": [
    {
     "data": {
      "text/plain": [
       "563"
      ]
     },
     "execution_count": 55,
     "metadata": {},
     "output_type": "execute_result"
    }
   ],
   "source": [
    "url_list = [i for i in patag_df['URL']] + f\n",
    "len(url_list)"
   ]
  },
  {
   "cell_type": "code",
   "execution_count": null,
   "metadata": {},
   "outputs": [
    {
     "data": {
      "text/plain": [
       "187"
      ]
     },
     "execution_count": 56,
     "metadata": {},
     "output_type": "execute_result"
    }
   ],
   "source": [
    "def Diff(li1, li2):\n",
    "    return (list(list(set(li1)-set(li2)) + list(set(li2)-set(li1))))\n",
    "t = Diff(patag_url_list, url_list)\n",
    "len(t)"
   ]
  },
  {
   "cell_type": "code",
   "execution_count": null,
   "metadata": {
    "scrolled": false
   },
   "outputs": [
    {
     "name": "stderr",
     "output_type": "stream",
     "text": [
      "100%|██████████| 191/191 [10:33<00:00,  3.32s/it]\n"
     ]
    }
   ],
   "source": [
    "patag_scraper(res, url_list)"
   ]
  },
  {
   "cell_type": "code",
   "execution_count": null,
   "metadata": {},
   "outputs": [
    {
     "data": {
      "text/plain": [
       "191"
      ]
     },
     "execution_count": 49,
     "metadata": {},
     "output_type": "execute_result"
    }
   ],
   "source": [
    "res = list(filter(None, t)) \n",
    "len(res)"
   ]
  },
  {
   "cell_type": "code",
   "execution_count": null,
   "metadata": {},
   "outputs": [],
   "source": []
  }
 ],
 "metadata": {
  "interpreter": {
   "hash": "7b6edf1972e686903e8d188d8727c93eb73c598b12c20b8d76c153accc2b22b7"
  },
  "kernelspec": {
   "display_name": "Python 3.8.5 64-bit ('base': conda)",
   "name": "python3"
  },
  "language_info": {
   "codemirror_mode": {
    "name": "ipython",
    "version": 3
   },
   "file_extension": ".py",
   "mimetype": "text/x-python",
   "name": "python",
   "nbconvert_exporter": "python",
   "pygments_lexer": "ipython3",
   "version": "3.8.5"
  }
 },
 "nbformat": 4,
 "nbformat_minor": 2
}
