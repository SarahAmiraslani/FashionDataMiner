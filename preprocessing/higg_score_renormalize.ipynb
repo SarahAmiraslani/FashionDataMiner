{
 "cells": [
  {
   "cell_type": "code",
   "execution_count": 1,
   "metadata": {},
   "outputs": [],
   "source": [
    "import pandas as pd\n",
    "import re\n",
    "import ast\n",
    "from ast import literal_eval\n",
    "import statistics\n",
    "\n",
    "# Silence the warning\n",
    "pd.options.mode.chained_assignment = None"
   ]
  },
  {
   "cell_type": "code",
   "execution_count": 2,
   "metadata": {},
   "outputs": [],
   "source": [
    "# Silence the warning\n",
    "pd.options.mode.chained_assignment = None"
   ]
  },
  {
   "cell_type": "markdown",
   "metadata": {},
   "source": [
    "#### Import Higg dataset"
   ]
  },
  {
   "cell_type": "code",
   "execution_count": 3,
   "metadata": {},
   "outputs": [],
   "source": [
    "#import new Higg material data\n",
    "df = pd.read_csv('higg_msi_scored_manual.csv')"
   ]
  },
  {
   "cell_type": "code",
   "execution_count": 4,
   "metadata": {},
   "outputs": [],
   "source": [
    "#Data Ranking \n",
    "types = df['type'].unique()\n",
    "s_globwarm = []\n",
    "s_eutroph = []\n",
    "s_water = []\n",
    "s_resdep = []\n",
    "s_chem = []\n",
    "s_overall = []\n",
    "\n",
    "for t in types:\n",
    "    sg = ((1-df['globalwarming'].loc[df['type'] == t].rank(pct=True)) *4.0)+1\n",
    "    s_globwarm.append(sg)\n",
    "    se = ((1-df['eutrophication'].loc[df['type'] == t].rank(pct=True)) *4.0)+1\n",
    "    s_eutroph.append(se)\n",
    "    sw = ((1-df['waterscarcity'].loc[df['type'] == t].rank(pct=True)) *4.0)+1\n",
    "    s_water.append(sw)\n",
    "    sr = ((1-df['abioticresourcedepletion'].loc[df['type'] == t].rank(pct=True)) *4.0)+1\n",
    "    s_resdep.append(sr)\n",
    "    sc = ((1-df['chemistry'].loc[df['type'] == t].rank(pct=True)) *4.0)+1\n",
    "    s_chem.append(sc)\n",
    "    so = (sg+se+sw+sr+sc)/5\n",
    "    s_overall.append(so)"
   ]
  },
  {
   "cell_type": "code",
   "execution_count": 5,
   "metadata": {},
   "outputs": [
    {
     "name": "stderr",
     "output_type": "stream",
     "text": [
      "/Users/Jeremy/anaconda3/lib/python3.7/site-packages/scipy/stats/stats.py:2419: RuntimeWarning: invalid value encountered in true_divide\n",
      "  return (a - mns) / sstd\n"
     ]
    }
   ],
   "source": [
    "#Outlier Analysis before Normalisation\n",
    "from scipy import stats\n",
    "\n",
    "outliers_gw=[]\n",
    "outliers_e=[]\n",
    "outliers_ws=[]\n",
    "outliers_ard=[]\n",
    "\n",
    "for t in types:\n",
    "    \n",
    "    #outlier taken out using z-scores\n",
    "    z_gw = stats.zscore(df['globalwarming'].loc[df['type'] == t])\n",
    "    z_e = stats.zscore(df['eutrophication'].loc[df['type'] == t])\n",
    "    z_ws = stats.zscore(df['waterscarcity'].loc[df['type'] == t])\n",
    "    z_ard = stats.zscore(df['abioticresourcedepletion'].loc[df['type'] == t])\n",
    "    \n",
    "    o_gw =[]\n",
    "    o_e =[]\n",
    "    o_ws =[]\n",
    "    o_ard =[]\n",
    "    \n",
    "\n",
    "    for i in range(len(z_gw)):\n",
    "        if abs(z_gw[i])>2:\n",
    "            o_gw.append(i)\n",
    "        if abs(z_e[i])>2:\n",
    "            o_e.append(i)\n",
    "        if abs(z_ws[i])>2:\n",
    "            o_ws.append(i)\n",
    "        if abs(z_ard[i])>2:\n",
    "            o_ard.append(i)\n",
    "\n",
    "\n",
    "         \n",
    "    outliers_gw.append(o_gw)\n",
    "    outliers_e.append(o_e)\n",
    "    outliers_ws.append(o_ws)\n",
    "    outliers_ard.append(o_ard)\n",
    "            "
   ]
  },
  {
   "cell_type": "code",
   "execution_count": 6,
   "metadata": {
    "scrolled": true
   },
   "outputs": [
    {
     "name": "stderr",
     "output_type": "stream",
     "text": [
      "/Users/Jeremy/anaconda3/lib/python3.7/site-packages/scipy/stats/stats.py:2419: RuntimeWarning: invalid value encountered in true_divide\n",
      "  return (a - mns) / sstd\n"
     ]
    }
   ],
   "source": [
    "outliers_gw2=[]\n",
    "outliers_e2=[]\n",
    "outliers_ws2=[]\n",
    "outliers_ard2=[]\n",
    "\n",
    "j=0\n",
    "\n",
    "for t in types:\n",
    "    \n",
    "    #outlier taken out using z-scores\n",
    "    z_gw = stats.zscore(df['globalwarming'].loc[df['type'] == t].reset_index().drop(index=outliers_gw[j]).drop('index',axis=1)['globalwarming'])\n",
    "    z_e = stats.zscore(df['eutrophication'].loc[df['type'] == t].reset_index().drop(index=outliers_e[j]).drop('index',axis=1)['eutrophication'])\n",
    "    z_ws = stats.zscore(df['waterscarcity'].loc[df['type'] == t].reset_index().drop(index=outliers_ws[j]).drop('index',axis=1)['waterscarcity'])\n",
    "    z_ard = stats.zscore(df['abioticresourcedepletion'].loc[df['type'] == t].reset_index().drop(index=outliers_ard[j]).drop('index',axis=1)['abioticresourcedepletion'])\n",
    "    \n",
    "    o_gw =[]\n",
    "    o_e =[]\n",
    "    o_ws =[]\n",
    "    o_ard =[]\n",
    "    \n",
    "    for i in range(len(z_gw)):\n",
    "        if abs(z_gw[i])>2:\n",
    "            o_gw.append(i)\n",
    "    for i in range(len(z_e)):\n",
    "        if abs(z_e[i])>2:\n",
    "            o_e.append(i)\n",
    "    for i in range(len(z_ws)):\n",
    "        if abs(z_ws[i])>2:\n",
    "            o_ws.append(i)\n",
    "    for i in range(len(z_ard)):\n",
    "        if abs(z_ard[i])>2:\n",
    "            o_ard.append(i)\n",
    "\n",
    "\n",
    "         \n",
    "    outliers_gw2.append(o_gw)\n",
    "    outliers_e2.append(o_e)\n",
    "    outliers_ws2.append(o_ws)\n",
    "    outliers_ard2.append(o_ard)\n",
    "    j+=1"
   ]
  },
  {
   "cell_type": "code",
   "execution_count": 7,
   "metadata": {},
   "outputs": [
    {
     "name": "stderr",
     "output_type": "stream",
     "text": [
      "/Users/Jeremy/anaconda3/lib/python3.7/site-packages/scipy/stats/stats.py:2419: RuntimeWarning: invalid value encountered in true_divide\n",
      "  return (a - mns) / sstd\n"
     ]
    }
   ],
   "source": [
    "outliers_gw3=[]\n",
    "outliers_e3=[]\n",
    "outliers_ws3=[]\n",
    "outliers_ard3=[]\n",
    "\n",
    "j=0\n",
    "\n",
    "for t in types:\n",
    "    \n",
    "    #outlier taken out using z-scores\n",
    "    z_gw = stats.zscore(df['globalwarming'].loc[df['type'] == t].reset_index().drop(index=outliers_gw[j]).drop('index',axis=1).reset_index().drop(index=outliers_gw2[j]).drop('index',axis=1)['globalwarming'])\n",
    "    z_e = stats.zscore(df['eutrophication'].loc[df['type'] == t].reset_index().drop(index=outliers_e[j]).drop('index',axis=1).reset_index().drop(index=outliers_e2[j]).drop('index',axis=1)['eutrophication'])\n",
    "    z_ws = stats.zscore(df['waterscarcity'].loc[df['type'] == t].reset_index().drop(index=outliers_ws[j]).drop('index',axis=1).reset_index().drop(index=outliers_ws2[j]).drop('index',axis=1)['waterscarcity'])\n",
    "    z_ard = stats.zscore(df['abioticresourcedepletion'].loc[df['type'] == t].reset_index().drop(index=outliers_ard[j]).drop('index',axis=1).reset_index().drop(index=outliers_ard2[j]).drop('index',axis=1)['abioticresourcedepletion'])\n",
    "    \n",
    "    o_gw =[]\n",
    "    o_e =[]\n",
    "    o_ws =[]\n",
    "    o_ard =[]\n",
    "\n",
    "    for i in range(len(z_gw)):\n",
    "        if abs(z_gw[i])>2:\n",
    "            o_gw.append(i)\n",
    "    for i in range(len(z_e)):\n",
    "        if abs(z_e[i])>2:\n",
    "            o_e.append(i)\n",
    "    for i in range(len(z_ws)):\n",
    "        if abs(z_ws[i])>2:\n",
    "            o_ws.append(i)\n",
    "    for i in range(len(z_ard)):\n",
    "        if abs(z_ard[i])>2:\n",
    "            o_ard.append(i)\n",
    "\n",
    "         \n",
    "    outliers_gw3.append(o_gw)\n",
    "    outliers_e3.append(o_e)\n",
    "    outliers_ws3.append(o_ws)\n",
    "    outliers_ard3.append(o_ard)\n",
    "    j+=1"
   ]
  },
  {
   "cell_type": "code",
   "execution_count": 8,
   "metadata": {},
   "outputs": [],
   "source": [
    "#Data Normalization\n",
    "types = df['type'].unique()\n",
    "s_globwarm = []\n",
    "s_eutroph = []\n",
    "s_water = []\n",
    "s_resdep = []\n",
    "s_chem = []\n",
    "s_overall = []\n",
    "\n",
    "\n",
    "#initialisation\n",
    "j=0\n",
    "\n",
    "for t in types:    \n",
    "    #print(t)\n",
    "\n",
    "    globalwarm = df['globalwarming'].loc[df['type'] == t].reset_index().drop(index=outliers_gw[j]).drop('index',axis=1).reset_index().drop(index=outliers_gw2[j]).drop('index',axis=1).reset_index().drop(index=outliers_gw3[j]).drop('index',axis=1)\n",
    "\n",
    "\n",
    "    eutroph = df['eutrophication'].loc[df['type'] == t].reset_index().drop(index=outliers_e[j]).drop('index',axis=1).reset_index().drop(index=outliers_e2[j]).drop('index',axis=1).reset_index().drop(index=outliers_e3[j]).drop('index',axis=1)\n",
    "\n",
    "\n",
    "    waterscar = df['waterscarcity'].loc[df['type'] == t].reset_index().drop(index=outliers_ws[j]).drop('index',axis=1).reset_index().drop(index=outliers_ws2[j]).drop('index',axis=1).reset_index().drop(index=outliers_ws3[j]).drop('index',axis=1)\n",
    "    \n",
    "    \n",
    "    abioticresource = df['abioticresourcedepletion'].loc[df['type'] == t].reset_index().drop(index=outliers_ard[j]).drop('index',axis=1).reset_index().drop(index=outliers_ard2[j]).drop('index',axis=1).reset_index().drop(index=outliers_ard3[j]).drop('index',axis=1)\n",
    "    \n",
    "    \n",
    "    #normalization\n",
    "    min_gw = globalwarm.min()\n",
    "    max_gw = globalwarm.max()\n",
    "    min_e = eutroph.min()\n",
    "    max_e = eutroph.max()\n",
    "    min_ws = waterscar.min()\n",
    "    max_ws = waterscar.max()\n",
    "    min_ard = abioticresource.min()\n",
    "    max_ard = abioticresource.max()\n",
    "    \n",
    "    \n",
    "    for i in range(len(df['globalwarming'].loc[df['type'] == t])):\n",
    "        s_globwarm.append(float((df['globalwarming'].loc[df['type'] == t].iloc[i]-min_gw)/(max_gw-min_gw)))\n",
    "        s_eutroph.append(float((df['eutrophication'].loc[df['type'] == t].iloc[i]-min_e)/(max_e-min_e)))\n",
    "        s_water.append(float((df['waterscarcity'].loc[df['type'] == t].iloc[i]-min_ws)/(max_ws-min_ws)))\n",
    "        s_resdep.append(float((df['abioticresourcedepletion'].loc[df['type'] == t].iloc[i]-min_ard)/(max_ard-min_ard)))\n",
    "    j+=1\n",
    "    "
   ]
  },
  {
   "cell_type": "code",
   "execution_count": 9,
   "metadata": {},
   "outputs": [],
   "source": [
    "df['score_globwarm'] = s_globwarm\n",
    "df['score_eutrophication'] = s_eutroph\n",
    "df['score_water'] = s_water\n",
    "df['score_resourcedepletion'] = s_resdep"
   ]
  },
  {
   "cell_type": "code",
   "execution_count": 10,
   "metadata": {},
   "outputs": [],
   "source": [
    "def scaletofive(x):\n",
    "\n",
    "    if x > 1:\n",
    "        x = 1\n",
    "    elif x < 0:\n",
    "        x = 5\n",
    "    else:\n",
    "        x = (1-x)*4+1\n",
    "    return x"
   ]
  },
  {
   "cell_type": "code",
   "execution_count": 11,
   "metadata": {},
   "outputs": [],
   "source": [
    "def scaletofive_water(x):\n",
    "\n",
    "    if x > 1:\n",
    "        x = 1\n",
    "    elif x < 0:\n",
    "        x = 5\n",
    "    else:\n",
    "        x = (1-x)*3+1\n",
    "    return x"
   ]
  },
  {
   "cell_type": "code",
   "execution_count": 12,
   "metadata": {},
   "outputs": [],
   "source": [
    "def scaletofive_gm(x):\n",
    "\n",
    "    if x > 1:\n",
    "        x = 1\n",
    "    elif x < 0:\n",
    "        x = 5\n",
    "    else:\n",
    "        x = (1-x)*3.5+1\n",
    "    return x"
   ]
  },
  {
   "cell_type": "code",
   "execution_count": 13,
   "metadata": {
    "scrolled": true
   },
   "outputs": [],
   "source": [
    "df['score_globwarm'] = df['score_globwarm'].apply(scaletofive_gm)\n",
    "df['score_eutrophication'] = df['score_eutrophication'].apply(scaletofive_gm)\n",
    "df['score_water'] = df['score_water'].apply(scaletofive_water)\n",
    "df['score_resourcedepletion'] = df['score_resourcedepletion'].apply(scaletofive)"
   ]
  },
  {
   "cell_type": "code",
   "execution_count": 14,
   "metadata": {},
   "outputs": [],
   "source": [
    "#export data\n",
    "df.to_csv('higg_rescaled.csv', index=False)"
   ]
  },
  {
   "cell_type": "markdown",
   "metadata": {},
   "source": [
    "#### Visual Representation of the data"
   ]
  },
  {
   "cell_type": "code",
   "execution_count": 63,
   "metadata": {},
   "outputs": [
    {
     "data": {
      "text/plain": [
       "<matplotlib.axes._subplots.AxesSubplot at 0x7f9810db9518>"
      ]
     },
     "execution_count": 63,
     "metadata": {},
     "output_type": "execute_result"
    },
    {
     "data": {
      "image/png": "[encoded data removed]",
      "text/plain": [
       "<Figure size 432x288 with 1 Axes>"
      ]
     },
     "metadata": {
      "needs_background": "light"
     },
     "output_type": "display_data"
    }
   ],
   "source": [
    "df['score_resourcedepletion'].hist(bins=11)"
   ]
  },
  {
   "cell_type": "code",
   "execution_count": 64,
   "metadata": {},
   "outputs": [
    {
     "data": {
      "text/plain": [
       "<matplotlib.axes._subplots.AxesSubplot at 0x7f9810db98d0>"
      ]
     },
     "execution_count": 64,
     "metadata": {},
     "output_type": "execute_result"
    },
    {
     "data": {
      "image/png": "[encoded data removed]",
      "text/plain": [
       "<Figure size 432x288 with 1 Axes>"
      ]
     },
     "metadata": {
      "needs_background": "light"
     },
     "output_type": "display_data"
    }
   ],
   "source": [
    "df['score_water'].hist(bins=11)"
   ]
  },
  {
   "cell_type": "code",
   "execution_count": 65,
   "metadata": {},
   "outputs": [
    {
     "data": {
      "text/plain": [
       "<matplotlib.axes._subplots.AxesSubplot at 0x7f9810f9dc50>"
      ]
     },
     "execution_count": 65,
     "metadata": {},
     "output_type": "execute_result"
    },
    {
     "data": {
      "image/png": "[encoded data removed]",
      "text/plain": [
       "<Figure size 432x288 with 1 Axes>"
      ]
     },
     "metadata": {
      "needs_background": "light"
     },
     "output_type": "display_data"
    }
   ],
   "source": [
    "df['score_globwarm'].hist(bins=11)"
   ]
  },
  {
   "cell_type": "code",
   "execution_count": 66,
   "metadata": {},
   "outputs": [
    {
     "data": {
      "text/plain": [
       "<matplotlib.axes._subplots.AxesSubplot at 0x7f98111a3518>"
      ]
     },
     "execution_count": 66,
     "metadata": {},
     "output_type": "execute_result"
    },
    {
     "data": {
      "image/png": "[encoded data removed]",
      "text/plain": [
       "<Figure size 432x288 with 1 Axes>"
      ]
     },
     "metadata": {
      "needs_background": "light"
     },
     "output_type": "display_data"
    }
   ],
   "source": [
    "df['score_eutrophication'].hist(bins=11)"
   ]
  },
  {
   "cell_type": "code",
   "execution_count": 48,
   "metadata": {},
   "outputs": [
    {
     "data": {
      "text/plain": [
       "<matplotlib.axes._subplots.AxesSubplot at 0x7f980fdbb278>"
      ]
     },
     "execution_count": 48,
     "metadata": {},
     "output_type": "execute_result"
    },
    {
     "data": {
      "image/png": "[encoded data removed]",
      "text/plain": [
       "<Figure size 432x288 with 1 Axes>"
      ]
     },
     "metadata": {
      "needs_background": "light"
     },
     "output_type": "display_data"
    }
   ],
   "source": [
    "df['score_resourcedepletion'].plot.box()"
   ]
  },
  {
   "cell_type": "code",
   "execution_count": 49,
   "metadata": {},
   "outputs": [
    {
     "data": {
      "text/plain": [
       "<matplotlib.axes._subplots.AxesSubplot at 0x7f980fe5d588>"
      ]
     },
     "execution_count": 49,
     "metadata": {},
     "output_type": "execute_result"
    },
    {
     "data": {
      "image/png": "[encoded data removed]",
      "text/plain": [
       "<Figure size 432x288 with 1 Axes>"
      ]
     },
     "metadata": {
      "needs_background": "light"
     },
     "output_type": "display_data"
    }
   ],
   "source": [
    "df['score_water'].plot.box()"
   ]
  },
  {
   "cell_type": "code",
   "execution_count": 50,
   "metadata": {},
   "outputs": [
    {
     "data": {
      "text/plain": [
       "<matplotlib.axes._subplots.AxesSubplot at 0x7f980ff15470>"
      ]
     },
     "execution_count": 50,
     "metadata": {},
     "output_type": "execute_result"
    },
    {
     "data": {
      "image/png": "[encoded data removed]",
      "text/plain": [
       "<Figure size 432x288 with 1 Axes>"
      ]
     },
     "metadata": {
      "needs_background": "light"
     },
     "output_type": "display_data"
    }
   ],
   "source": [
    "df['score_globwarm'].plot.box()"
   ]
  },
  {
   "cell_type": "code",
   "execution_count": 51,
   "metadata": {},
   "outputs": [
    {
     "data": {
      "text/plain": [
       "<matplotlib.axes._subplots.AxesSubplot at 0x7f980fff3e80>"
      ]
     },
     "execution_count": 51,
     "metadata": {},
     "output_type": "execute_result"
    },
    {
     "data": {
      "image/png": "[encoded data removed]",
      "text/plain": [
       "<Figure size 432x288 with 1 Axes>"
      ]
     },
     "metadata": {
      "needs_background": "light"
     },
     "output_type": "display_data"
    }
   ],
   "source": [
    "df['score_eutrophication'].plot.box()"
   ]
  },
  {
   "cell_type": "markdown",
   "metadata": {},
   "source": [
    "### Appendix"
   ]
  },
  {
   "cell_type": "code",
   "execution_count": 22,
   "metadata": {
    "scrolled": true
   },
   "outputs": [
    {
     "data": {
      "text/plain": [
       "<matplotlib.axes._subplots.AxesSubplot at 0x7f980fa8ce48>"
      ]
     },
     "execution_count": 22,
     "metadata": {},
     "output_type": "execute_result"
    },
    {
     "data": {
      "image/png": "[encoded data removed]",
      "text/plain": [
       "<Figure size 432x288 with 1 Axes>"
      ]
     },
     "metadata": {
      "needs_background": "light"
     },
     "output_type": "display_data"
    }
   ],
   "source": [
    "#old boxplot for referrence\n",
    "df['score_globwarm'].plot.box()"
   ]
  },
  {
   "cell_type": "code",
   "execution_count": 23,
   "metadata": {},
   "outputs": [
    {
     "data": {
      "text/plain": [
       "<matplotlib.axes._subplots.AxesSubplot at 0x7f980fbcdc88>"
      ]
     },
     "execution_count": 23,
     "metadata": {},
     "output_type": "execute_result"
    },
    {
     "data": {
      "image/png": "[encoded data removed]",
      "text/plain": [
       "<Figure size 432x288 with 1 Axes>"
      ]
     },
     "metadata": {
      "needs_background": "light"
     },
     "output_type": "display_data"
    }
   ],
   "source": [
    "#old boxplot for referrence\n",
    "df['score_eutrophication'].plot.box()"
   ]
  }
 ],
 "metadata": {
  "kernelspec": {
   "display_name": "Python 3",
   "language": "python",
   "name": "python3"
  },
  "language_info": {
   "codemirror_mode": {
    "name": "ipython",
    "version": 3
   },
   "file_extension": ".py",
   "mimetype": "text/x-python",
   "name": "python",
   "nbconvert_exporter": "python",
   "pygments_lexer": "ipython3",
   "version": "3.7.3"
  }
 },
 "nbformat": 4,
 "nbformat_minor": 2
}
