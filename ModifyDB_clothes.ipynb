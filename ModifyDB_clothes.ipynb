{
 "cells": [
  {
   "cell_type": "code",
   "execution_count": 1,
   "metadata": {},
   "outputs": [
    {
     "name": "stderr",
     "output_type": "stream",
     "text": [
      "/Users/Jeremy/anaconda3/lib/python3.7/site-packages/psycopg2/__init__.py:144: UserWarning: The psycopg2 wheel package will be renamed from release 2.8; in order to keep installing from binary please use \"pip install psycopg2-binary\" instead. For details see: <http://initd.org/psycopg/docs/install.html#binary-install-from-pypi>.\n",
      "  \"\"\")\n"
     ]
    }
   ],
   "source": [
    "import psycopg2\n",
    "import pandas as pd\n",
    "import numpy as np"
   ]
  },
  {
   "cell_type": "code",
   "execution_count": 14,
   "metadata": {},
   "outputs": [],
   "source": [
    "#conntect to aws database\n",
    "connection = psycopg2.connect(\n",
    "    host = 'changingroom-database1.cfiednof9fbl.us-east-2.rds.amazonaws.com',\n",
    "    port = 5432,\n",
    "    user = 'change_admin',\n",
    "    password = 'ChangeFashion2020!',\n",
    "    database='marketplace'\n",
    "    )\n",
    "cursor=connection.cursor()"
   ]
  },
  {
   "cell_type": "code",
   "execution_count": 13,
   "metadata": {},
   "outputs": [
    {
     "data": {
      "text/plain": [
       "\"{'Multicolored': 'https://static.zara.net/photos///2021/I/0/1/p/7918/493/330/2/w/1920/7918493330_1_1_1.jpg?ts=1622792745210'}\""
      ]
     },
     "execution_count": 13,
     "metadata": {},
     "output_type": "execute_result"
    }
   ],
   "source": [
    "sql = \"\"\"\n",
    "SELECT *\n",
    "FROM clothes LIMIT 5\n",
    "\"\"\"\n",
    "pd.read_sql(sql, con=connection)['image_link_color']"
   ]
  },
  {
   "cell_type": "markdown",
   "metadata": {},
   "source": [
    "### Clothes Data"
   ]
  },
  {
   "cell_type": "code",
   "execution_count": 196,
   "metadata": {},
   "outputs": [],
   "source": [
    "#Note: You always need to commit after executing a sql command\n",
    "cursor.execute(\"\"\"DROP TABLE clothes CASCADE\"\"\")\n",
    "\n",
    "connection.commit()"
   ]
  },
  {
   "cell_type": "code",
   "execution_count": 197,
   "metadata": {},
   "outputs": [],
   "source": [
    "#here is an example to create table materials with columns material_id of type text, chemistry of type float etc.\n",
    "#each row of a table should ideally be uniquely identifiable by an id so always make sure to have an id column\n",
    "cursor.execute(\"\"\"CREATE TABLE clothes(\n",
    "clothing_id text PRIMARY KEY,\n",
    "display_name text,\n",
    "color text ARRAY[20],\n",
    "size text ARRAY[20],\n",
    "price text,\n",
    "product_url text,\n",
    "image_link_color JSONB,\n",
    "brand_name text,\n",
    "description text,\n",
    "scrapped_date date,\n",
    "low_level text,\n",
    "material_dict JSONB,\n",
    "gender text,\n",
    "OverallScore float);\"\"\")\n",
    "\n",
    "connection.commit()"
   ]
  },
  {
   "cell_type": "code",
   "execution_count": 202,
   "metadata": {},
   "outputs": [],
   "source": [
    "#option 1 - when the csv is in the exact form/schema of the table to upload\n",
    "csv_file_name = 'clothing_df.csv'\n",
    "sql = \"COPY clothes FROM STDIN DELIMITER ',' CSV HEADER\"\n",
    "cursor.copy_expert(sql, open(csv_file_name, \"r\"))\n",
    "\n",
    "connection.commit()"
   ]
  },
  {
   "cell_type": "code",
   "execution_count": 201,
   "metadata": {},
   "outputs": [],
   "source": [
    "connection.rollback()"
   ]
  },
  {
   "cell_type": "markdown",
   "metadata": {},
   "source": [
    "### ITEM HAS MATERIAL"
   ]
  },
  {
   "cell_type": "code",
   "execution_count": 4,
   "metadata": {},
   "outputs": [
    {
     "data": {
      "text/html": [
       "<div>\n",
       "<style scoped>\n",
       "    .dataframe tbody tr th:only-of-type {\n",
       "        vertical-align: middle;\n",
       "    }\n",
       "\n",
       "    .dataframe tbody tr th {\n",
       "        vertical-align: top;\n",
       "    }\n",
       "\n",
       "    .dataframe thead th {\n",
       "        text-align: right;\n",
       "    }\n",
       "</style>\n",
       "<table border=\"1\" class=\"dataframe\">\n",
       "  <thead>\n",
       "    <tr style=\"text-align: right;\">\n",
       "      <th></th>\n",
       "      <th>id</th>\n",
       "      <th>clothing_id</th>\n",
       "      <th>material_id</th>\n",
       "      <th>part</th>\n",
       "      <th>percentage</th>\n",
       "    </tr>\n",
       "  </thead>\n",
       "  <tbody>\n",
       "    <tr>\n",
       "      <th>0</th>\n",
       "      <td>186422792</td>\n",
       "      <td>20210630hm0</td>\n",
       "      <td>tex_cott_6</td>\n",
       "      <td>Shell</td>\n",
       "      <td>96%</td>\n",
       "    </tr>\n",
       "    <tr>\n",
       "      <th>1</th>\n",
       "      <td>735107864</td>\n",
       "      <td>20210630hm0</td>\n",
       "      <td>tex_elas_10</td>\n",
       "      <td>Shell</td>\n",
       "      <td>4%</td>\n",
       "    </tr>\n",
       "    <tr>\n",
       "      <th>2</th>\n",
       "      <td>121845571</td>\n",
       "      <td>20210630hm0</td>\n",
       "      <td>tex_cott_6</td>\n",
       "      <td>Shell</td>\n",
       "      <td>96%</td>\n",
       "    </tr>\n",
       "    <tr>\n",
       "      <th>3</th>\n",
       "      <td>695983975</td>\n",
       "      <td>20210630hm0</td>\n",
       "      <td>tex_elas_10</td>\n",
       "      <td>Shell</td>\n",
       "      <td>4%</td>\n",
       "    </tr>\n",
       "    <tr>\n",
       "      <th>4</th>\n",
       "      <td>749547351</td>\n",
       "      <td>20210630hm0</td>\n",
       "      <td>tex_cott_6</td>\n",
       "      <td>Shell</td>\n",
       "      <td>100%</td>\n",
       "    </tr>\n",
       "  </tbody>\n",
       "</table>\n",
       "</div>"
      ],
      "text/plain": [
       "          id  clothing_id  material_id   part percentage\n",
       "0  186422792  20210630hm0   tex_cott_6  Shell        96%\n",
       "1  735107864  20210630hm0  tex_elas_10  Shell         4%\n",
       "2  121845571  20210630hm0   tex_cott_6  Shell        96%\n",
       "3  695983975  20210630hm0  tex_elas_10  Shell         4%\n",
       "4  749547351  20210630hm0   tex_cott_6  Shell       100%"
      ]
     },
     "execution_count": 4,
     "metadata": {},
     "output_type": "execute_result"
    }
   ],
   "source": [
    "sql = \"\"\"\n",
    "SELECT *\n",
    "FROM item_has_material LIMIT 5\n",
    "\"\"\"\n",
    "pd.read_sql(sql, con=connection)"
   ]
  },
  {
   "cell_type": "code",
   "execution_count": 207,
   "metadata": {},
   "outputs": [],
   "source": [
    "item_df = pd.read_csv('item_has_material.csv')"
   ]
  },
  {
   "cell_type": "code",
   "execution_count": 210,
   "metadata": {},
   "outputs": [],
   "source": [
    "np.random.seed(100)\n",
    "item_df['id'] = np.random.randint(0,1000000000,size=(len(item_df)))\n",
    "#item_df[item_df['id'].duplicated()]"
   ]
  },
  {
   "cell_type": "code",
   "execution_count": 211,
   "metadata": {},
   "outputs": [],
   "source": [
    "item_df = item_df[['id','clothing_id', 'material_id', 'part', 'percentage']]"
   ]
  },
  {
   "cell_type": "code",
   "execution_count": 212,
   "metadata": {},
   "outputs": [],
   "source": [
    "item_df.to_csv('item_has_material.csv',index=None)"
   ]
  },
  {
   "cell_type": "code",
   "execution_count": 5,
   "metadata": {},
   "outputs": [],
   "source": [
    "#Note: You always need to commit after executing a sql command\n",
    "cursor.execute(\"\"\"DROP TABLE item_has_material CASCADE\"\"\")\n",
    "\n",
    "connection.commit()"
   ]
  },
  {
   "cell_type": "code",
   "execution_count": 6,
   "metadata": {},
   "outputs": [],
   "source": [
    "#here is an example to create table materials with columns material_id of type text, chemistry of type float etc.\n",
    "#each row of a table should ideally be uniquely identifiable by an id so always make sure to have an id column\n",
    "cursor.execute(\"\"\"CREATE TABLE item_has_material(\n",
    "id SERIAL PRIMARY KEY,\n",
    "clothing_id text REFERENCES clothes(clothing_id),\n",
    "material_id text REFERENCES materials(material_id),\n",
    "part text,\n",
    "percentage text);\"\"\")\n",
    "\n",
    "connection.commit()"
   ]
  },
  {
   "cell_type": "code",
   "execution_count": 7,
   "metadata": {},
   "outputs": [],
   "source": [
    "#option 1 - when the csv is in the exact form/schema of the table to upload\n",
    "csv_file_name = 'item_has_material.csv'\n",
    "sql = \"COPY item_has_material FROM STDIN DELIMITER ',' CSV HEADER\"\n",
    "cursor.copy_expert(sql, open(csv_file_name, \"r\"))\n",
    "\n",
    "connection.commit()"
   ]
  },
  {
   "cell_type": "markdown",
   "metadata": {},
   "source": [
    "### PART COMPONENT VALUE"
   ]
  },
  {
   "cell_type": "code",
   "execution_count": 23,
   "metadata": {},
   "outputs": [
    {
     "data": {
      "text/html": [
       "<div>\n",
       "<style scoped>\n",
       "    .dataframe tbody tr th:only-of-type {\n",
       "        vertical-align: middle;\n",
       "    }\n",
       "\n",
       "    .dataframe tbody tr th {\n",
       "        vertical-align: top;\n",
       "    }\n",
       "\n",
       "    .dataframe thead th {\n",
       "        text-align: right;\n",
       "    }\n",
       "</style>\n",
       "<table border=\"1\" class=\"dataframe\">\n",
       "  <thead>\n",
       "    <tr style=\"text-align: right;\">\n",
       "      <th></th>\n",
       "      <th>high_level</th>\n",
       "      <th>low_level</th>\n",
       "      <th>part</th>\n",
       "      <th>component_significance</th>\n",
       "      <th>component_value_percentage</th>\n",
       "    </tr>\n",
       "  </thead>\n",
       "  <tbody>\n",
       "    <tr>\n",
       "      <th>0</th>\n",
       "      <td>shirts</td>\n",
       "      <td>T-Shirts</td>\n",
       "      <td>Padding</td>\n",
       "      <td>Tertiary</td>\n",
       "      <td>0%</td>\n",
       "    </tr>\n",
       "    <tr>\n",
       "      <th>1</th>\n",
       "      <td>shirts</td>\n",
       "      <td>T-Shirts</td>\n",
       "      <td>Cup Lining</td>\n",
       "      <td>Tertiary</td>\n",
       "      <td>0%</td>\n",
       "    </tr>\n",
       "    <tr>\n",
       "      <th>2</th>\n",
       "      <td>shirts</td>\n",
       "      <td>T-Shirts</td>\n",
       "      <td>Shell</td>\n",
       "      <td>Main</td>\n",
       "      <td>100%</td>\n",
       "    </tr>\n",
       "    <tr>\n",
       "      <th>3</th>\n",
       "      <td>shirts</td>\n",
       "      <td>T-Shirts</td>\n",
       "      <td>Net</td>\n",
       "      <td>Tertiary</td>\n",
       "      <td>5%</td>\n",
       "    </tr>\n",
       "    <tr>\n",
       "      <th>4</th>\n",
       "      <td>shirts</td>\n",
       "      <td>T-Shirts</td>\n",
       "      <td>Upper</td>\n",
       "      <td>Secondary</td>\n",
       "      <td>50%</td>\n",
       "    </tr>\n",
       "  </tbody>\n",
       "</table>\n",
       "</div>"
      ],
      "text/plain": [
       "  high_level low_level        part component_significance  \\\n",
       "0     shirts  T-Shirts     Padding               Tertiary   \n",
       "1     shirts  T-Shirts  Cup Lining               Tertiary   \n",
       "2     shirts  T-Shirts       Shell                   Main   \n",
       "3     shirts  T-Shirts         Net               Tertiary   \n",
       "4     shirts  T-Shirts       Upper              Secondary   \n",
       "\n",
       "  component_value_percentage  \n",
       "0                         0%  \n",
       "1                         0%  \n",
       "2                       100%  \n",
       "3                         5%  \n",
       "4                        50%  "
      ]
     },
     "execution_count": 23,
     "metadata": {},
     "output_type": "execute_result"
    }
   ],
   "source": [
    "sql = \"\"\"\n",
    "SELECT *\n",
    "FROM part_component_value LIMIT 5\n",
    "\"\"\"\n",
    "pd.read_sql(sql, con=connection)"
   ]
  },
  {
   "cell_type": "code",
   "execution_count": 15,
   "metadata": {},
   "outputs": [],
   "source": [
    "#Note: You always need to commit after executing a sql command\n",
    "cursor.execute(\"\"\"DROP TABLE part_component_value CASCADE\"\"\")\n",
    "\n",
    "connection.commit()"
   ]
  },
  {
   "cell_type": "code",
   "execution_count": 16,
   "metadata": {},
   "outputs": [],
   "source": [
    "#here is an example to create table materials with columns material_id of type text, chemistry of type float etc.\n",
    "#each row of a table should ideally be uniquely identifiable by an id so always make sure to have an id column\n",
    "cursor.execute(\"\"\"CREATE TABLE part_component_value(\n",
    "PRIMARY KEY(high_level, low_level, part),\n",
    "high_level text,\n",
    "low_level text,\n",
    "part text,\n",
    "component_significance text,\n",
    "component_value_percentage text);\"\"\")\n",
    "\n",
    "connection.commit()"
   ]
  },
  {
   "cell_type": "code",
   "execution_count": 22,
   "metadata": {},
   "outputs": [],
   "source": [
    "#option 1 - when the csv is in the exact form/schema of the table to upload\n",
    "csv_file_name = 'part_component_value.csv'\n",
    "sql = \"COPY part_component_value FROM STDIN DELIMITER ',' CSV HEADER\"\n",
    "cursor.copy_expert(sql, open(csv_file_name, \"r\"))\n",
    "\n",
    "connection.commit()"
   ]
  },
  {
   "cell_type": "code",
   "execution_count": 21,
   "metadata": {},
   "outputs": [],
   "source": [
    "connection.rollback()"
   ]
  },
  {
   "cell_type": "code",
   "execution_count": null,
   "metadata": {},
   "outputs": [],
   "source": [
    "['high_level', 'low_level', 'part', 'component_significance',\n",
    "       'component_value_percentage']"
   ]
  }
 ],
 "metadata": {
  "kernelspec": {
   "display_name": "Python 3",
   "language": "python",
   "name": "python3"
  },
  "language_info": {
   "codemirror_mode": {
    "name": "ipython",
    "version": 3
   },
   "file_extension": ".py",
   "mimetype": "text/x-python",
   "name": "python",
   "nbconvert_exporter": "python",
   "pygments_lexer": "ipython3",
   "version": "3.7.3"
  }
 },
 "nbformat": 4,
 "nbformat_minor": 2
}
