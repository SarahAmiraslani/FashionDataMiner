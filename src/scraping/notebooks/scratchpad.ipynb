{
 "cells": [
  {
   "cell_type": "markdown",
   "metadata": {},
   "source": [
    "## Imports"
   ]
  },
  {
   "cell_type": "code",
   "execution_count": 79,
   "id": "01HZMPF6S352G8T2ASHH1VGXB4",
   "metadata": {},
   "outputs": [],
   "source": [
    "# Standard library imports\n",
    "import csv\n",
    "import http.client\n",
    "import logging\n",
    "import random\n",
    "import re\n",
    "import sys\n",
    "import time\n",
    "from datetime import datetime\n",
    "from urllib.request import Request, urlopen\n",
    "\n",
    "# Related third party imports\n",
    "import numpy as np\n",
    "import requests\n",
    "from bs4 import BeautifulSoup\n",
    "import extruct\n",
    "from extruct.microformat import MicroformatExtractor\n",
    "from selenium import webdriver\n",
    "from w3lib.html import get_base_url\n",
    "from random_user_agent.user_agent import UserAgent\n",
    "from random_user_agent.params import SoftwareName, OperatingSystem\n",
    "\n",
    "# Local application/library specific imports\n",
    "# from utilities.scrapping_utility import get_user_agent"
   ]
  },
  {
   "cell_type": "markdown",
   "metadata": {},
   "source": [
    "## Global Variables"
   ]
  },
  {
   "cell_type": "code",
   "execution_count": 43,
   "id": "01HZMPF6S3GHN8GQEBESXP7NCH",
   "metadata": {},
   "outputs": [],
   "source": [
    "ZARA_BASE_URL = \"https://www.zara.com/us/\"\n",
    "\n",
    "# set user agent to imitate browser requests\n",
    "STOPWORDS = {\n",
    "    \"+ info\",\n",
    "    \"about\",\n",
    "    r\"gift.*\",\n",
    "    \"suppliers\",\n",
    "    \"vr store\",\n",
    "    \"press\",\n",
    "    r\"news.*\",\n",
    "    \"movie\",\n",
    "    \"careers\",\n",
    "    \"annual report\",\n",
    "    \"company\",\n",
    "    \"contact us\",\n",
    "    \"help\",\n",
    "    \"stores\",\n",
    "    \"zaraseries\",\n",
    "    \"stories\",\n",
    "    \"zaratribute\",\n",
    "    r\"community.*\",\n",
    "    r\"join.*\",\n",
    "    \"job\",\n",
    "}"
   ]
  },
  {
   "cell_type": "markdown",
   "metadata": {},
   "source": [
    "## Functions"
   ]
  },
  {
   "cell_type": "markdown",
   "metadata": {},
   "source": [
    "### Webdriver and Scrapping Utilities"
   ]
  },
  {
   "cell_type": "code",
   "execution_count": 64,
   "id": "01HZMPF6S320B17NW5966FS42Y",
   "metadata": {},
   "outputs": [],
   "source": [
    "def get_user_agent() -> str:\n",
    "    \"\"\"\n",
    "    Defines a random user agent string for web scraping purposes.\n",
    "\n",
    "    Returns:\n",
    "        str: A randomly selected user agent string.\n",
    "    \"\"\"\n",
    "\n",
    "    software_names = [\n",
    "        SoftwareName.CHROME.value,\n",
    "        SoftwareName.FIREFOX.value,\n",
    "        SoftwareName.EDGE.value,\n",
    "    ]\n",
    "    operating_systems = [\n",
    "        OperatingSystem.WINDOWS.value,\n",
    "        OperatingSystem.MAC.value,\n",
    "        OperatingSystem.LINUX.value,\n",
    "        OperatingSystem.ANDROID.value,\n",
    "        OperatingSystem.IOS.value,\n",
    "    ]\n",
    "    user_agent_rotator = UserAgent(\n",
    "        software_names=software_names, operating_systems=operating_systems, limit=100\n",
    "    )\n",
    "    return user_agent_rotator.get_random_user_agent()\n",
    "\n",
    "\n",
    "def get_metadata(url: str, metadata_type: str = \"all-in-one\") -> dict:\n",
    "    \"\"\"\n",
    "    Retrieves the metadata from the specified URL.\n",
    "\n",
    "    Args:\n",
    "        url (str): The URL of the webpage.\n",
    "        metadata_type (str): The type of metadata to extract. Supported values are \"all-in-one\" and \"micro\".\n",
    "\n",
    "    Returns:\n",
    "        dict: The extracted metadata.\n",
    "\n",
    "    Raises:\n",
    "        ValueError: If an unsupported metadata_type is provided.\n",
    "        requests.exceptions.RequestException: If there is an error while making the network request.\n",
    "    \"\"\"\n",
    "    if metadata_type not in [\"all-in-one\", \"micro\"]:\n",
    "        raise ValueError(f\"Unsupported metadata_type: {metadata_type}\")\n",
    "\n",
    "    user_agent = get_user_agent()\n",
    "\n",
    "    try:\n",
    "        r = requests.get(url, headers={\"User-Agent\": user_agent}, timeout=30)\n",
    "    except requests.exceptions.RequestException as e:\n",
    "        print(f\"Error while making network request: {e}\")\n",
    "        raise\n",
    "\n",
    "    base_url = get_base_url(r.text, r.url)\n",
    "    data_extractors = {\n",
    "        \"all-in-one\": lambda: extruct.extract(r.text, base_url=base_url),\n",
    "        \"micro\": lambda: MicroformatExtractor().extract(r.text),\n",
    "    }\n",
    "    return data_extractors[metadata_type]()\n",
    "\n",
    "\n",
    "def base_url_request(url: str) -> BeautifulSoup:\n",
    "    \"\"\"\n",
    "    Sends a GET request to the specified URL and returns the response content as a string.\n",
    "\n",
    "    Args:\n",
    "        url (str): The URL to send the request to.\n",
    "\n",
    "    Returns:\n",
    "        str: The response content as a string.\n",
    "    \"\"\"\n",
    "    user_agent = get_user_agent()\n",
    "    driver_options = prep_driver_options(user_agent)\n",
    "    r = requests.get(ZARA_BASE_URL, headers={\"User-Agent\": user_agent}, timeout=30)\n",
    "    if response.status_code != http.client.OK:\n",
    "        logging.error(\"Error retrieving %s: %s\", url, response.status_code)\n",
    "        sys.exit()\n",
    "    return BeautifulSoup(r.content.decode(\"utf-8\"), \"html.parser\")"
   ]
  },
  {
   "cell_type": "code",
   "execution_count": null,
   "id": "01HZMPF6S3ES7NBR7H0JRWDV1G",
   "metadata": {},
   "outputs": [],
   "source": [
    "def prep_driver_options(user_agent: str) -> webdriver.ChromeOptions:\n",
    "    \"\"\"\n",
    "    Prepares and returns a ChromeOptions object with the specified user agent.\n",
    "\n",
    "    Args:\n",
    "        user_agent (str): The user agent string to be used by the Chrome driver.\n",
    "\n",
    "    Returns:\n",
    "        webdriver.ChromeOptions: A ChromeOptions object with the specified user agent and other default options.\n",
    "    \"\"\"\n",
    "    options = webdriver.ChromeOptions()\n",
    "    arguments = [\n",
    "        \"--headless\",\n",
    "        \"--no-sandbox\",\n",
    "        \"--incognito\",\n",
    "        \"--start-maximized\",\n",
    "        \"--enable-automation\",\n",
    "        \"--ignore-certificate-errors\",\n",
    "        \"--disable-notifications\",\n",
    "        \"--disable-extensions\",\n",
    "        \"--disable-infobars\",\n",
    "        f\"user-agent={user_agent}\",\n",
    "    ]\n",
    "\n",
    "    for argument in arguments:\n",
    "        options.add_argument(argument)\n",
    "\n",
    "    return options"
   ]
  },
  {
   "cell_type": "markdown",
   "metadata": {},
   "source": [
    "## Zara scrapping"
   ]
  },
  {
   "cell_type": "code",
   "execution_count": 68,
   "id": "01HZMPF6S3HR4BRY8V745PPVC2",
   "metadata": {},
   "outputs": [
    {
     "data": {
      "text/plain": [
       "[]"
      ]
     },
     "execution_count": 68,
     "metadata": {},
     "output_type": "execute_result"
    }
   ],
   "source": [
    "soup = base_url_request(ZARA_BASE_URL)\n",
    "if len(soup.find_all(\"a\")) = 0:\n",
    "    print(\"No links found\")\n",
    "\n",
    "    # selenium driver"
   ]
  },
  {
   "cell_type": "code",
   "execution_count": 80,
   "id": "01HZMPF6S3B8QPKWWZ1ZKKY14S",
   "metadata": {},
   "outputs": [],
   "source": [
    "driver = webdriver.Chrome(options=prep_driver_options(get_user_agent()))\n",
    "\n",
    "driver.get(ZARA_BASE_URL)"
   ]
  },
  {
   "cell_type": "code",
   "execution_count": 86,
   "id": "01HZMPF6S3WHYXB13CXT8EKS2W",
   "metadata": {},
   "outputs": [],
   "source": [
    "from selenium import webdriver\n",
    "from selenium.webdriver.chrome.options import Options\n",
    "from selenium.webdriver.common.proxy import Proxy, ProxyType\n",
    "\n",
    "options = Options()\n",
    "options.add_argument(\n",
    "    \"user-agent=Mozilla/5.0 (Windows NT 10.0; Win64; x64) AppleWebKit/537.36 (KHTML, like Gecko) Chrome/58.0.3029.110 Safari/537.3\"\n",
    ")\n",
    "\n",
    "proxy = Proxy()\n",
    "proxy.proxy_type = ProxyType.MANUAL\n",
    "proxy.http_proxy = \"ip:port\"\n",
    "proxy.ssl_proxy = \"ip:port\"\n",
    "\n",
    "capabilities = webdriver.DesiredCapabilities.CHROME\n",
    "# proxy.add_to_capabilities(capabilities)\n",
    "\n",
    "driver = webdriver.Chrome(options=options)\n",
    "\n",
    "driver.get(ZARA_BASE_URL)"
   ]
  },
  {
   "cell_type": "code",
   "execution_count": 69,
   "id": "01HZMPF6S3DHQNRX1QAX86YDGC",
   "metadata": {},
   "outputs": [
    {
     "ename": "TypeError",
     "evalue": "WebDriver.__init__() got an unexpected keyword argument 'chrome_options'",
     "output_type": "error",
     "traceback": [
      "\u001b[0;31m---------------------------------------------------------------------------\u001b[0m",
      "\u001b[0;31mTypeError\u001b[0m                                 Traceback (most recent call last)",
      "Cell \u001b[0;32mIn[69], line 1\u001b[0m\n\u001b[0;32m----> 1\u001b[0m driver \u001b[38;5;241m=\u001b[39m \u001b[43mwebdriver\u001b[49m\u001b[38;5;241;43m.\u001b[39;49m\u001b[43mChrome\u001b[49m\u001b[43m(\u001b[49m\n\u001b[1;32m      2\u001b[0m \u001b[43m    \u001b[49m\u001b[43mChromeDriverManager\u001b[49m\u001b[43m(\u001b[49m\u001b[43m)\u001b[49m\u001b[38;5;241;43m.\u001b[39;49m\u001b[43minstall\u001b[49m\u001b[43m(\u001b[49m\u001b[43m)\u001b[49m\u001b[43m,\u001b[49m\u001b[43m \u001b[49m\u001b[43mchrome_options\u001b[49m\u001b[38;5;241;43m=\u001b[39;49m\u001b[43mprep_driver_options\u001b[49m\u001b[43m(\u001b[49m\u001b[43mget_user_agent\u001b[49m\u001b[43m(\u001b[49m\u001b[43m)\u001b[49m\u001b[43m)\u001b[49m\n\u001b[1;32m      3\u001b[0m \u001b[43m)\u001b[49m\n",
      "\u001b[0;31mTypeError\u001b[0m: WebDriver.__init__() got an unexpected keyword argument 'chrome_options'"
     ]
    }
   ],
   "source": [
    "driver = webdriver.Chrome(\n",
    "    ChromeDriverManager().install(), chrome_options=prep_driver_options(get_user_agent())\n",
    ")"
   ]
  },
  {
   "cell_type": "code",
   "execution_count": 33,
   "id": "01HZMPF6S36C18B4Q5RJ337AVE",
   "metadata": {},
   "outputs": [],
   "source": [
    "base_url = get_base_url(r.text,r.url)\n",
    "data_extractors = {\n",
    "    \"all-in-one\": lambda: extruct.extract(r.text, base_url=base_url),\n",
    "    \"micro\": lambda: MicroformatExtractor().extract(r.text),\n",
    "}"
   ]
  },
  {
   "cell_type": "code",
   "execution_count": 36,
   "id": "01HZMPF6S355QGXKTVE1G5T0K0",
   "metadata": {},
   "outputs": [
    {
     "name": "stderr",
     "output_type": "stream",
     "text": [
      "/Users/sarahamiraslani/Documents/GitHub/FashionDataMiner/.venv/lib/python3.12/site-packages/mf2py/parser.py:156: GuessedAtParserWarning: No parser was explicitly specified, so I'm using the best available HTML parser for this system (\"html.parser\"). This usually isn't a problem, but if you run this code on another system, or in a different virtual environment, it may use a different parser and behave differently.\n",
      "\n",
      "The code that caused this warning is on line 156 of the file /Users/sarahamiraslani/Documents/GitHub/FashionDataMiner/.venv/lib/python3.12/site-packages/mf2py/parser.py. To get rid of this warning, pass the additional argument 'features=\"html.parser\"' to the BeautifulSoup constructor.\n",
      "\n",
      "  self.__doc__ = BeautifulSoup(doc)\n"
     ]
    },
    {
     "data": {
      "text/plain": [
       "{'microdata': [],\n",
       " 'json-ld': [],\n",
       " 'opengraph': [],\n",
       " 'microformat': [],\n",
       " 'rdfa': [],\n",
       " 'dublincore': [{'namespaces': {}, 'elements': [], 'terms': []}]}"
      ]
     },
     "execution_count": 36,
     "metadata": {},
     "output_type": "execute_result"
    }
   ],
   "source": [
    "data_extractors[\"all-in-one\"]()"
   ]
  },
  {
   "cell_type": "code",
   "execution_count": null,
   "metadata": {},
   "outputs": [],
   "source": []
  }
 ],
 "metadata": {
  "kernelspec": {
   "display_name": ".venv",
   "language": "python",
   "name": "python3"
  },
  "language_info": {
   "codemirror_mode": {
    "name": "ipython",
    "version": 3
   },
   "file_extension": ".py",
   "mimetype": "text/x-python",
   "name": "python",
   "nbconvert_exporter": "python",
   "pygments_lexer": "ipython3",
   "version": "3.12.3"
  }
 },
 "nbformat": 4,
 "nbformat_minor": 2
}
