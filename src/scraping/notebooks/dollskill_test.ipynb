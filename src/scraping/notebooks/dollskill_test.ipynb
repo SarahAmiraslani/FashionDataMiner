{
 "cells": [
  {
   "cell_type": "code",
   "execution_count": 11,
   "metadata": {},
   "outputs": [
    {
     "ename": "ModuleNotFoundError",
     "evalue": "No module named 'random_user_agent'",
     "output_type": "error",
     "traceback": [
      "\u001b[1;31m---------------------------------------------------------------------------\u001b[0m",
      "\u001b[1;31mModuleNotFoundError\u001b[0m                       Traceback (most recent call last)",
      "\u001b[1;32m<ipython-input-11-831af350cf47>\u001b[0m in \u001b[0;36m<module>\u001b[1;34m\u001b[0m\n\u001b[0;32m     22\u001b[0m \u001b[0mos\u001b[0m\u001b[1;33m.\u001b[0m\u001b[0mchdir\u001b[0m\u001b[1;33m(\u001b[0m\u001b[1;34m'..'\u001b[0m\u001b[1;33m)\u001b[0m \u001b[1;31m# from scraping-notebooks -> web-scrapping\u001b[0m\u001b[1;33m\u001b[0m\u001b[1;33m\u001b[0m\u001b[0m\n\u001b[0;32m     23\u001b[0m \u001b[0msys\u001b[0m\u001b[1;33m.\u001b[0m\u001b[0mpath\u001b[0m\u001b[1;33m.\u001b[0m\u001b[0mappend\u001b[0m\u001b[1;33m(\u001b[0m\u001b[0mos\u001b[0m\u001b[1;33m.\u001b[0m\u001b[0mpath\u001b[0m\u001b[1;33m.\u001b[0m\u001b[0mjoin\u001b[0m\u001b[1;33m(\u001b[0m\u001b[0mos\u001b[0m\u001b[1;33m.\u001b[0m\u001b[0mgetcwd\u001b[0m\u001b[1;33m(\u001b[0m\u001b[1;33m)\u001b[0m \u001b[1;33m+\u001b[0m \u001b[1;34m'\\scraping-py'\u001b[0m\u001b[1;33m)\u001b[0m\u001b[1;33m)\u001b[0m \u001b[1;31m# append the scraping-py folder to path\u001b[0m\u001b[1;33m\u001b[0m\u001b[1;33m\u001b[0m\u001b[0m\n\u001b[1;32m---> 24\u001b[1;33m \u001b[1;32mfrom\u001b[0m \u001b[0mhelper_functions\u001b[0m \u001b[1;32mimport\u001b[0m \u001b[0mget_user_agent\u001b[0m\u001b[1;33m,\u001b[0m \u001b[0mprep_driver\u001b[0m\u001b[1;33m\u001b[0m\u001b[1;33m\u001b[0m\u001b[0m\n\u001b[0m",
      "\u001b[1;32mc:\\Users\\linds\\OneDrive\\chngingroom\\web-scrapping\\scraping-py\\helper_functions.py\u001b[0m in \u001b[0;36m<module>\u001b[1;34m\u001b[0m\n\u001b[0;32m     20\u001b[0m \u001b[1;32mfrom\u001b[0m \u001b[0mpathlib\u001b[0m \u001b[1;32mimport\u001b[0m \u001b[0mPath\u001b[0m\u001b[1;33m\u001b[0m\u001b[1;33m\u001b[0m\u001b[0m\n\u001b[0;32m     21\u001b[0m \u001b[1;32mfrom\u001b[0m \u001b[0mdatetime\u001b[0m \u001b[1;32mimport\u001b[0m \u001b[0mdatetime\u001b[0m\u001b[1;33m\u001b[0m\u001b[1;33m\u001b[0m\u001b[0m\n\u001b[1;32m---> 22\u001b[1;33m \u001b[1;32mfrom\u001b[0m \u001b[0mrandom_user_agent\u001b[0m\u001b[1;33m.\u001b[0m\u001b[0muser_agent\u001b[0m \u001b[1;32mimport\u001b[0m \u001b[0mUserAgent\u001b[0m\u001b[1;33m\u001b[0m\u001b[1;33m\u001b[0m\u001b[0m\n\u001b[0m\u001b[0;32m     23\u001b[0m \u001b[1;32mfrom\u001b[0m \u001b[0mrandom_user_agent\u001b[0m\u001b[1;33m.\u001b[0m\u001b[0mparams\u001b[0m \u001b[1;32mimport\u001b[0m \u001b[0mSoftwareName\u001b[0m\u001b[1;33m,\u001b[0m \u001b[0mOperatingSystem\u001b[0m\u001b[1;33m\u001b[0m\u001b[1;33m\u001b[0m\u001b[0m\n\u001b[0;32m     24\u001b[0m \u001b[1;33m\u001b[0m\u001b[0m\n",
      "\u001b[1;31mModuleNotFoundError\u001b[0m: No module named 'random_user_agent'"
     ]
    }
   ],
   "source": [
    "import re\n",
    "import sys\n",
    "import time\n",
    "import csv\n",
    "from datetime import datetime\n",
    "import random\n",
    "import requests\n",
    "\n",
    "from selenium import webdriver\n",
    "from webdriver_manager.chrome import ChromeDriverManager\n",
    "from selenium.webdriver.common.by import By\n",
    "from selenium.webdriver.support.ui import WebDriverWait\n",
    "from selenium.webdriver.support import expected_conditions as EC\n",
    "from time import sleep\n",
    "from bs4 import BeautifulSoup\n",
    "from selenium.webdriver.common.by import By\n",
    "\n",
    "import os\n",
    "import pandas as pd\n",
    "import numpy as np\n",
    "import importlib\n",
    "os.chdir('..') # from scraping-notebooks -> web-scrapping\n",
    "sys.path.append(os.path.join(os.getcwd() + '\\scraping-py')) # append the scraping-py folder to path\n",
    "from helper_functions import get_user_agent, prep_driver\n"
   ]
  },
  {
   "cell_type": "code",
   "execution_count": 24,
   "metadata": {},
   "outputs": [
    {
     "name": "stdout",
     "output_type": "stream",
     "text": [
      "c:\\Users\\linds\\OneDrive\\chngingroom\\web-scrapping\\data\n"
     ]
    },
    {
     "data": {
      "text/html": [
       "<div>\n",
       "<style scoped>\n",
       "    .dataframe tbody tr th:only-of-type {\n",
       "        vertical-align: middle;\n",
       "    }\n",
       "\n",
       "    .dataframe tbody tr th {\n",
       "        vertical-align: top;\n",
       "    }\n",
       "\n",
       "    .dataframe thead th {\n",
       "        text-align: right;\n",
       "    }\n",
       "</style>\n",
       "<table border=\"1\" class=\"dataframe\">\n",
       "  <thead>\n",
       "    <tr style=\"text-align: right;\">\n",
       "      <th></th>\n",
       "      <th>product_url</th>\n",
       "      <th>image_links</th>\n",
       "    </tr>\n",
       "    <tr>\n",
       "      <th>display_name</th>\n",
       "      <th></th>\n",
       "      <th></th>\n",
       "    </tr>\n",
       "  </thead>\n",
       "  <tbody>\n",
       "    <tr>\n",
       "      <th>Chain Smoker Set</th>\n",
       "      <td>https://www.dollskill.com/chain-smoker-set.html</td>\n",
       "      <td>['https://media.dollskill.com/media/9SGF9tQCsc...</td>\n",
       "    </tr>\n",
       "    <tr>\n",
       "      <th>St Marine Westenders</th>\n",
       "      <td>https://www.dollskill.com/one-teaspoon-st-mari...</td>\n",
       "      <td>['https://media.dollskill.com/media/dUd4Ukn86u...</td>\n",
       "    </tr>\n",
       "    <tr>\n",
       "      <th>Young And Beautiful Bodysuit</th>\n",
       "      <td>https://www.dollskill.com/white-lace-bodysuit....</td>\n",
       "      <td>['https://media.dollskill.com/media/VCdVTk75MD...</td>\n",
       "    </tr>\n",
       "  </tbody>\n",
       "</table>\n",
       "</div>"
      ],
      "text/plain": [
       "                                                                    product_url  \\\n",
       "display_name                                                                      \n",
       "Chain Smoker Set                https://www.dollskill.com/chain-smoker-set.html   \n",
       "St Marine Westenders          https://www.dollskill.com/one-teaspoon-st-mari...   \n",
       "Young And Beautiful Bodysuit  https://www.dollskill.com/white-lace-bodysuit....   \n",
       "\n",
       "                                                                    image_links  \n",
       "display_name                                                                     \n",
       "Chain Smoker Set              ['https://media.dollskill.com/media/9SGF9tQCsc...  \n",
       "St Marine Westenders          ['https://media.dollskill.com/media/dUd4Ukn86u...  \n",
       "Young And Beautiful Bodysuit  ['https://media.dollskill.com/media/VCdVTk75MD...  "
      ]
     },
     "execution_count": 24,
     "metadata": {},
     "output_type": "execute_result"
    }
   ],
   "source": [
    "helper_path = os.path.join(os.getcwd(), 'data')\n",
    "print(helper_path)\n",
    "df = pd.read_csv(helper_path + '\\dollskill_urls.csv', index_col = 0)\n",
    "df.head(3)"
   ]
  },
  {
   "cell_type": "code",
   "execution_count": 3,
   "metadata": {},
   "outputs": [
    {
     "data": {
      "text/plain": [
       "(139126, 3)"
      ]
     },
     "execution_count": 3,
     "metadata": {},
     "output_type": "execute_result"
    }
   ],
   "source": [
    "df.shape"
   ]
  },
  {
   "cell_type": "code",
   "execution_count": 4,
   "metadata": {},
   "outputs": [],
   "source": [
    "df['image_links'].iloc[0]\n",
    "one_row = df.iloc[0]"
   ]
  },
  {
   "cell_type": "code",
   "execution_count": 122,
   "metadata": {},
   "outputs": [],
   "source": [
    "user_agent: str = get_user_agent()\n",
    "\n",
    "\n",
    "def get_product_info(row):\n",
    "\tstart_time = time.time()\n",
    "\turl = row['product_url']\n",
    "\toptions = prep_driver(user_agent)\n",
    "\tdriver = webdriver.Chrome(executable_path=ChromeDriverManager().install(), options=options)\n",
    "\tdriver.get(url)\n",
    "\tprint('product url:', url)\n",
    "\n",
    "\t# get `size`:\n",
    "\tsize_path = '//main/div/div[1]/div/div/div/div[2]/div/div[7]/select/option'\n",
    "\tsize_els = driver.find_elements(By.XPATH, size_path)\n",
    "\tsize = []\n",
    "\tif len(size_els) == 1:\n",
    "\t\t# one size item\n",
    "\t\tsize.append(size_els[0].text)\n",
    "\telse:\n",
    "\t\t# multiple sized item\n",
    "\t\t# regex only extracts size & not whether out of stock\n",
    "\t\tsize = [re.match('^[^-]*[^ -]', el.text).group(0) for el in size_els if 'select a size' not in el.text.lower()]\n",
    "\tprint('size:', size)\n",
    "\n",
    "\t# get `price`: current price (sale price if on sale)\n",
    "\tprice_path = '//main/div/div[1]/div/div/div/div[2]/div/div[3]/div/span'\n",
    "\tprice_els = driver.find_elements(By.XPATH, price_path)\n",
    "\tprice = re.search('[-0-9.,]+', price_els[-1].text).group()\n",
    "\tprint('price:', price)\n",
    "\n",
    "\t# get `availability`: if sold out\n",
    "\tavail_path = '//main/div/div[1]/div/div/div/div[1]/div/div/div/div[2]/div'\n",
    "\tavail_el = driver.find_element(By.XPATH, avail_path)\n",
    "\tavailability = 1\n",
    "\tif avail_el.text.lower() == 'sold out':\n",
    "\t\tavailability = 0\n",
    "\tprint(availability)\n",
    "\n",
    "\t# get everything drop dropdown buttons\n",
    "\t# 1. find \"Description\" button\n",
    "\tbuttons_xpath = '//div[1]/main/div/div[1]/div/div/div/div[2]/div/div[10]/'\n",
    "\tdescrip_xpath = buttons_xpath + 'div[1]'\n",
    "\t# descrip = driver.find_element(By.XPATH, \"//*[text()='Description']\")\n",
    "\t# buttons_parent = descrip.find_element(By.XPATH, '../../../..') # div holding 4 drop-down buttons\n",
    "\t# descrip_button = descrip.find_element(By.XPATH, '../../..')\n",
    "\tdescrip_button = driver.find_element(By.XPATH, descrip_xpath)\n",
    "\tdesc_button_class = descrip_button.get_attribute('class')\n",
    "\t# print('class:', desc_button_class)\n",
    "\tdriver.execute_script(\"arguments[0].scrollIntoView();\", descrip_button)\n",
    "\tdriver.execute_script(\"arguments[0].click();\", descrip_button)\n",
    "\tdescription = descrip_button.find_element(By.TAG_NAME, 'p').text\n",
    "\tprint('description:', description)\n",
    "\n",
    "\t# get `brand`\n",
    "\tbrand_path = '//main/div/div[1]/div/div/div/div[2]/div/div[1]/a'\n",
    "\tbrand_el = driver.find_element(By.XPATH, brand_path)\n",
    "\t# Code to continue searching for brand if element DNE:\n",
    "\t# list_path = os.path.join(os.getcwd(), 'web-scrapping', 'data', 'dollskill_brands.npy')\n",
    "\t# print(list_path)\n",
    "\t# brand_list = loadList(list_path)\n",
    "\t# if brand_el.text == '':\n",
    "\t# \t# brand element not here, check if in description\n",
    "\t# \tbrand_match = ''\n",
    "\t# \tfor brand in brand_list:\n",
    "\t# \t\tif brand in description:\n",
    "\t# \t\t\tbrand_match = brand\n",
    "\t# \t\t\tprint('found a match the 2nd time:', brand_match)\n",
    "\t# else:\n",
    "\t# \tprint('brand:', brand_el.text)\n",
    "\t\n",
    "\tbrand = 'Dolls Kill' # default brand\n",
    "\tif len(brand_el.text) != 0:\n",
    "\t\tbrand = brand_el.text\n",
    "\n",
    "\t# 2. Find \"Details\" button\n",
    "\tdetails_path = buttons_xpath + 'div[2]'\n",
    "\tdetails_button = WebDriverWait(driver, 20).until(EC.element_to_be_clickable((By.XPATH, details_path)))\n",
    "\tdetails_button.click()\n",
    "\t# print('details class:', details_button.get_attribute('class'))\n",
    "\tbullet_pt_els = details_button.find_elements(By.XPATH, './/ul/li/span')\n",
    "\tfor bullet in bullet_pt_els:\n",
    "\t\tprint(bullet.text)\n",
    "\n",
    "\t# # 3. Find \"View More\" button (4th button)\n",
    "\t# view_path = buttons_xpath + 'div[4]'\n",
    "\t# view_button = WebDriverWait(driver, 20).until(EC.element_to_be_clickable((By.XPATH, view_path)))\n",
    "\t# view_button.click()\n",
    "\t# category_els = view_button.find_elements(By.XPATH, './/ul/a')\n",
    "\t# for cat in category_els:\n",
    "\t# \tprint(cat.text)"
   ]
  },
  {
   "cell_type": "code",
   "execution_count": 123,
   "metadata": {},
   "outputs": [
    {
     "name": "stderr",
     "output_type": "stream",
     "text": [
      "\n",
      "\n",
      "====== WebDriver manager ======\n",
      "Current google-chrome version is 96.0.4664\n",
      "Get LATEST chromedriver version for 96.0.4664 google-chrome\n",
      "Driver [C:\\Users\\linds\\.wdm\\drivers\\chromedriver\\win32\\96.0.4664.45\\chromedriver.exe] found in cache\n",
      "<ipython-input-122-ecedaca97171>:8: DeprecationWarning: executable_path has been deprecated, please pass in a Service object\n",
      "  driver = webdriver.Chrome(executable_path=ChromeDriverManager().install(), options=options)\n"
     ]
    },
    {
     "name": "stdout",
     "output_type": "stream",
     "text": [
      "product url: https://www.dollskill.com/chain-smoker-set.html\n",
      "description: Chain Smoker Set is burnin’ hot. This sexy set includes a high-neck cropped top with long sheer sleeves and shorts with flowing sheer panels.\n",
      "c:\\Users\\linds\\OneDrive\\chngingroom\\web-scrapping\\data\\dollskill_brands.npy\n"
     ]
    },
    {
     "name": "stderr",
     "output_type": "stream",
     "text": [
      "\n",
      "\n",
      "====== WebDriver manager ======\n",
      "Current google-chrome version is 96.0.4664\n",
      "Get LATEST chromedriver version for 96.0.4664 google-chrome\n",
      "Driver [C:\\Users\\linds\\.wdm\\drivers\\chromedriver\\win32\\96.0.4664.45\\chromedriver.exe] found in cache\n"
     ]
    },
    {
     "name": "stdout",
     "output_type": "stream",
     "text": [
      "product url: https://www.dollskill.com/one-teaspoon-st-marine-westenders.html\n",
      "description: One Teaspoon St Marine Westenders are perfect for late nights in tha studio and the early mornin’ classes that follow. Slide into these incredible super low rise jeans, featurin’ a washed premium denim construction, slouchy straight leg cut that flares slightly, hand distressed ‘n patched details all over, and classic zipper fly and button closure.\n",
      "c:\\Users\\linds\\OneDrive\\chngingroom\\web-scrapping\\data\\dollskill_brands.npy\n",
      "brand: One Teaspoon\n"
     ]
    },
    {
     "name": "stderr",
     "output_type": "stream",
     "text": [
      "\n",
      "\n",
      "====== WebDriver manager ======\n",
      "Current google-chrome version is 96.0.4664\n",
      "Get LATEST chromedriver version for 96.0.4664 google-chrome\n",
      "Driver [C:\\Users\\linds\\.wdm\\drivers\\chromedriver\\win32\\96.0.4664.45\\chromedriver.exe] found in cache\n"
     ]
    },
    {
     "name": "stdout",
     "output_type": "stream",
     "text": [
      "product url: https://www.dollskill.com/coca-cola-logo-midi-skirt.html\n",
      "description: Coca Cola Logo Midi Skirt that pop and fizz is what we are all about. No wonder, because when yer wearin this exxxtra tight midi skirt, we wouldnt have it any other way. Featurin fabric that loves yer curves as much as we do and an elastic band that keeps it up, we are more than ready to take a sip of you. With its logo that is a total throwback to yer favorite hot day drink, you look a tall glass of something delicious.\n",
      "c:\\Users\\linds\\OneDrive\\chngingroom\\web-scrapping\\data\\dollskill_brands.npy\n"
     ]
    }
   ],
   "source": [
    "# testing for 3 products\n",
    "row = df.iloc[0]\n",
    "row1 = df.iloc[1]\n",
    "row2 = df.iloc[10000]\n",
    "get_product_info(row)\n",
    "get_product_info(row1)\n",
    "ul_el = get_product_info(row2)\n",
    "# print(ul_el)"
   ]
  },
  {
   "cell_type": "code",
   "execution_count": null,
   "metadata": {},
   "outputs": [
    {
     "data": {
      "text/plain": [
       "(138546, 2)"
      ]
     },
     "execution_count": 101,
     "metadata": {},
     "output_type": "execute_result"
    }
   ],
   "source": [
    "# checked: product urls are all unique\n",
    "display_names = df['display_name'].value_counts().rename_axis('display_name').reset_index(name='count')\n",
    "display_names.shape\n",
    "# non_unique_names = display_names[(display_names.iloc[:, 1] > 1)]"
   ]
  },
  {
   "cell_type": "code",
   "execution_count": 134,
   "metadata": {},
   "outputs": [
    {
     "data": {
      "text/plain": [
       "int"
      ]
     },
     "execution_count": 134,
     "metadata": {},
     "output_type": "execute_result"
    }
   ],
   "source": [
    "\"dollskill-\" + \"-\".join(row2['display_name'].split())\n",
    "type(df.shape[0])"
   ]
  },
  {
   "cell_type": "code",
   "execution_count": 139,
   "metadata": {},
   "outputs": [],
   "source": [
    "### id_style\t\t\t\t\t\t? do I need to scrape - interesting test cases\n",
    "# display_name: DONE\n",
    "# materials\t\t\t\t\t\t\t? is there a regex for this\n",
    "# color\n",
    "# size: DONE\n",
    "# price: DONE\n",
    "### currency: USD\n",
    "# product_url: DONE\n",
    "# image_links: DONE\n",
    "# brand_name: DONE\n",
    "### retailer: Dolls Kill\n",
    "# description: DONE\n",
    "### scrapped_date: today's date\n",
    "# high_level\t\t\t\t\t\tneed to talk to Sarah about how she's been doing this\n",
    "# low_level\t\t\t\t\t\t\tneed to talk to Sarah\n",
    "### gender: Women\t\t\t\t\t?\n",
    "### secondhand: 0\n",
    "### shipping_from: np.NaN\n",
    "# style\t\t\t\t\t\t\t\t? is there regex for this\n",
    "# availability: DONE"
   ]
  },
  {
   "cell_type": "code",
   "execution_count": 140,
   "metadata": {},
   "outputs": [],
   "source": [
    "dictionary = {'size' : \"sizes\", 'price' : \"prices\", 'description' : \"descriptions\",\n",
    "\t\t\t\t\t'brand' : \"brands\", 'availability' : \"availabilities\", 'gender' : \"gender\",\n",
    "\t\t\t\t\t'secondhand' : \"secondhand\", 'shipping_from' : \"shipping_from\",\n",
    "\t\t\t\t\t'scrapped_date' : \"scrapped_date\", 'retailer' : \"retailer\", 'currency' : \"currency\"}"
   ]
  },
  {
   "cell_type": "code",
   "execution_count": 14,
   "metadata": {},
   "outputs": [],
   "source": [
    "# experimenting with none types in csv & saving shit\n",
    "listofNones = [TypeError, 0, 1, None]\n",
    "df = pd.DataFrame(listofNones, columns=['avail'])\n",
    "df.to_csv('test.csv', index=False)"
   ]
  },
  {
   "cell_type": "code",
   "execution_count": 15,
   "metadata": {},
   "outputs": [
    {
     "data": {
      "text/html": [
       "<div>\n",
       "<style scoped>\n",
       "    .dataframe tbody tr th:only-of-type {\n",
       "        vertical-align: middle;\n",
       "    }\n",
       "\n",
       "    .dataframe tbody tr th {\n",
       "        vertical-align: top;\n",
       "    }\n",
       "\n",
       "    .dataframe thead th {\n",
       "        text-align: right;\n",
       "    }\n",
       "</style>\n",
       "<table border=\"1\" class=\"dataframe\">\n",
       "  <thead>\n",
       "    <tr style=\"text-align: right;\">\n",
       "      <th></th>\n",
       "      <th>avail</th>\n",
       "    </tr>\n",
       "  </thead>\n",
       "  <tbody>\n",
       "    <tr>\n",
       "      <th>0</th>\n",
       "      <td>&lt;class 'TypeError'&gt;</td>\n",
       "    </tr>\n",
       "    <tr>\n",
       "      <th>1</th>\n",
       "      <td>0</td>\n",
       "    </tr>\n",
       "    <tr>\n",
       "      <th>2</th>\n",
       "      <td>1</td>\n",
       "    </tr>\n",
       "    <tr>\n",
       "      <th>3</th>\n",
       "      <td>NaN</td>\n",
       "    </tr>\n",
       "  </tbody>\n",
       "</table>\n",
       "</div>"
      ],
      "text/plain": [
       "                 avail\n",
       "0  <class 'TypeError'>\n",
       "1                    0\n",
       "2                    1\n",
       "3                  NaN"
      ]
     },
     "execution_count": 15,
     "metadata": {},
     "output_type": "execute_result"
    }
   ],
   "source": [
    "df_read = pd.read_csv('test.csv')\n",
    "df_read.head(5)"
   ]
  },
  {
   "cell_type": "code",
   "execution_count": 22,
   "metadata": {},
   "outputs": [
    {
     "data": {
      "text/plain": [
       "\"<class 'TypeError'>\""
      ]
     },
     "execution_count": 22,
     "metadata": {},
     "output_type": "execute_result"
    }
   ],
   "source": [
    "df_read['avail'].loc[0]"
   ]
  },
  {
   "cell_type": "code",
   "execution_count": 23,
   "metadata": {},
   "outputs": [
    {
     "name": "stdout",
     "output_type": "stream",
     "text": [
      "<class 'TypeError'>\n",
      "unsupported operand type(s) for +: 'NoneType' and 'NoneType'\n"
     ]
    }
   ],
   "source": [
    "# experimenting with try except\n",
    "try:\n",
    "\tNone + None\n",
    "except Exception as excep:\n",
    "\tprint(str(type(excep)))\n",
    "\tprint(excep)"
   ]
  }
 ],
 "metadata": {
  "interpreter": {
   "hash": "7b6edf1972e686903e8d188d8727c93eb73c598b12c20b8d76c153accc2b22b7"
  },
  "kernelspec": {
   "display_name": "Python 3.8.5 64-bit ('base': conda)",
   "name": "python3"
  },
  "language_info": {
   "codemirror_mode": {
    "name": "ipython",
    "version": 3
   },
   "file_extension": ".py",
   "mimetype": "text/x-python",
   "name": "python",
   "nbconvert_exporter": "python",
   "pygments_lexer": "ipython3",
   "version": "3.8.5"
  },
  "orig_nbformat": 4
 },
 "nbformat": 4,
 "nbformat_minor": 2
}
