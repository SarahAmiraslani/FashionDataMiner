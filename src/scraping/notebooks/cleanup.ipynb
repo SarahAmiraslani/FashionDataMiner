{
 "cells": [
  {
   "cell_type": "code",
   "execution_count": 2,
   "metadata": {},
   "outputs": [],
   "source": [
    "import os"
   ]
  },
  {
   "cell_type": "code",
   "execution_count": 11,
   "metadata": {},
   "outputs": [],
   "source": [
    "def rename_files(directory):\n",
    "    for dirpath, _, filenames in os.walk(directory):\n",
    "        for filename in filenames:\n",
    "            new_filename = filename.lower().replace(\"-\", \"_\")\n",
    "            if \"_updated\" in new_filename:\n",
    "                new_filename = new_filename.replace(\"_updated\", \"\")\n",
    "            if \"_test\" in new_filename:\n",
    "                new_filename = new_filename.replace(\"_test\", \"\")\n",
    "            if new_filename != filename:\n",
    "                os.rename(\n",
    "                    os.path.join(dirpath, filename), os.path.join(dirpath, new_filename)\n",
    "                )\n",
    "\n",
    "\n",
    "# Replace 'your_directory_path' with the path of the directory you want to rename files in\n",
    "rename_files(\"/Users/sarahamiraslani/Documents/GitHub/FashionDataMiner/src\")"
   ]
  },
  {
   "cell_type": "code",
   "execution_count": null,
   "metadata": {},
   "outputs": [],
   "source": []
  }
 ],
 "metadata": {
  "kernelspec": {
   "display_name": ".venv",
   "language": "python",
   "name": "python3"
  },
  "language_info": {
   "codemirror_mode": {
    "name": "ipython",
    "version": 3
   },
   "file_extension": ".py",
   "mimetype": "text/x-python",
   "name": "python",
   "nbconvert_exporter": "python",
   "pygments_lexer": "ipython3",
   "version": "3.12.3"
  }
 },
 "nbformat": 4,
 "nbformat_minor": 2
}
