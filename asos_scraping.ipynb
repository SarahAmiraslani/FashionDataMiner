{
 "cells": [
  {
   "cell_type": "code",
   "execution_count": 1,
   "metadata": {},
   "outputs": [
    {
     "name": "stderr",
     "output_type": "stream",
     "text": [
      "C:\\Users\\linds\\anaconda3\\lib\\site-packages\\requests\\__init__.py:89: RequestsDependencyWarning: urllib3 (1.26.7) or chardet (3.0.4) doesn't match a supported version!\n",
      "  warnings.warn(\"urllib3 ({}) or chardet ({}) doesn't match a supported \"\n"
     ]
    }
   ],
   "source": [
    "from selenium import webdriver\n",
    "from selenium.webdriver.common.keys import Keys\n",
    "from selenium.webdriver.support.ui import WebDriverWait\n",
    "from selenium.webdriver.support import expected_conditions as EC\n",
    "from selenium.webdriver.common.by import By\n",
    "from selenium.webdriver.support.ui import WebDriverWait\n",
    "from selenium.common.exceptions import TimeoutException, StaleElementReferenceException, NoSuchElementException\n",
    "import pandas as pd\n",
    "import numpy as np\n",
    "import matplotlib.pyplot as plt\n",
    "import json\n",
    "from bs4 import BeautifulSoup\n",
    "import requests\n",
    "import re\n",
    "import itertools\n",
    "import time\n",
    "from multiprocessing.pool import Pool\n",
    "from multiprocessing import current_process\n",
    "from functools import partial\n",
    "import csv\n",
    "import concurrent.futures\n",
    "from tqdm import tqdm"
   ]
  },
  {
   "cell_type": "markdown",
   "metadata": {},
   "source": [
    "# Main Functions"
   ]
  },
  {
   "cell_type": "code",
   "execution_count": 2,
   "metadata": {},
   "outputs": [],
   "source": [
    "def brand_sort(all_brand_url):\n",
    "    # Input: Page with A-Z of brands\n",
    "    # Output: List of URLs of all brands\n",
    "    \n",
    "    options = webdriver.ChromeOptions()\n",
    "    options.add_argument('--incognito')\n",
    "    driver = webdriver.Chrome(options=options)\n",
    "    driver.get(all_brand_url)\n",
    "        \n",
    "    elems = driver.find_elements_by_css_selector(\".vqk6pTa [href]\")\n",
    "    brands_list = [elem.get_attribute('href') for elem in elems]\n",
    "\n",
    "    driver.quit()\n",
    "            \n",
    "    return brands_list"
   ]
  },
  {
   "cell_type": "code",
   "execution_count": 3,
   "metadata": {},
   "outputs": [],
   "source": [
    "def brand_itemize(brand_url):\n",
    "    # Input: URL of each brand\n",
    "    # Output: List of URLs of all items in each brand\n",
    "    \n",
    "    global brand_dict\n",
    "    HEADERS = {\n",
    "    'User-Agent': 'Mozilla/5.0 (X11; Linux x86_64) AppleWebKit/537.36 (KHTML, like Gecko) Chrome/67.0.3396.87 Safari/537.36',\n",
    "    }\n",
    "    content = requests.get(brand_url, headers=HEADERS)\n",
    "    soup = BeautifulSoup(content.text, 'html.parser')\n",
    "    brand_name = soup.find('div', {\"class\":\"_3FyxBKb\"}).h1.get_text()\n",
    "    \n",
    "\n",
    "    attempt = 1 \n",
    "    if brand_name not in brand_dict:\n",
    "        options = webdriver.ChromeOptions()\n",
    "        options.add_argument('--incognito')\n",
    "        driver = webdriver.Chrome(options=options)\n",
    "        driver.get(brand_url)\n",
    "        # If more than one page, click \"LOAD MORE\"\n",
    "        try:\n",
    "            WebDriverWait(driver, 5).until(EC.visibility_of_all_elements_located((By.CLASS_NAME, \"fWxiz1Y\")))\n",
    "        except:\n",
    "            pass\n",
    "        while True:\n",
    "            try:\n",
    "                WebDriverWait(driver, 20).until(EC.element_to_be_clickable((By.XPATH, \"//*[@id='plp']/div/div/div[2]/div/a\"))).click()\n",
    "            except TimeoutException:\n",
    "                break\n",
    "            except StaleElementReferenceException:\n",
    "                if attempt == 3:\n",
    "                    raise\n",
    "                attempt += 1\n",
    "        items = driver.find_elements_by_css_selector(\"._3pQmLlY [href]\")\n",
    "        brand_items = [item.get_attribute('href') for item in items]\n",
    "\n",
    "        brand_dict[brand_name] = brand_items\n",
    "        driver.quit()\n",
    "    \n",
    "    return brand_dict"
   ]
  },
  {
   "cell_type": "code",
   "execution_count": 4,
   "metadata": {},
   "outputs": [],
   "source": [
    "def asos_scraper(asos_url_list, url_list, n):\n",
    "  \n",
    "    # Input: URL from Asos\n",
    "    # Output: DF with results\n",
    "    \n",
    "    # Define empty lists to store results and log of failed URLs\n",
    "    failed = []\n",
    "    results = []\n",
    "    \n",
    "    \n",
    "    for asos_url in tqdm(asos_url_list):\n",
    "        if asos_url not in url_list:\n",
    "            # Empty dictionary to store output\n",
    "            asos_results = {}\n",
    "\n",
    "            # Beautiful soup driver\n",
    "            HEADERS = {\n",
    "                'User-Agent': 'Mozilla/5.0 (Macintosh; Intel Mac OS X 10_15_6) AppleWebKit/537.36 (KHTML, like Gecko) Chrome/86.0.4238.2  Safari/537.36',\n",
    "            }\n",
    "            content = requests.get(asos_url, headers=HEADERS)\n",
    "            soup = BeautifulSoup(content.text, 'html.parser')\n",
    "\n",
    "            # Selenium driver\n",
    "            user_agent = 'Mozilla/5.0 (Macintosh; Intel Mac OS X 10_15_6) AppleWebKit/537.36 (KHTML, like Gecko) Chrome/86.0.4238.2  Safari/537.36'\n",
    "            path = '/Users/anu/going_headless/chromedriver_mac64/chromedriver'\n",
    "            options = webdriver.ChromeOptions()\n",
    "            options.add_argument('--headless')\n",
    "            options.add_argument(\"--window-size=1920,1080\")\n",
    "            options.add_argument('--ignore-certificate-errors')\n",
    "            options.add_argument('--allow-running-insecure-content')\n",
    "            options.add_argument(f'user-agent={user_agent}')\n",
    "            options.binary_location = '/Applications/Google Chrome Canary.app/Contents/MacOS/Google Chrome Canary'\n",
    "            driver = webdriver.Chrome(executable_path = path, options=options)\n",
    "            driver.get(asos_url)\n",
    "\n",
    "            # Check if product is in stock\n",
    "            try:\n",
    "                outofstock = driver.find_element_by_xpath('//*[@id=\"oos-label\"]/h3').text\n",
    "                if NoSuchElementException:\n",
    "                    pass\n",
    "                if outofstock=='OUT OF STOCK':\n",
    "                    failed.append(asos_url)\n",
    "                    pass\n",
    "\n",
    "                else:\n",
    "                    # Name of product\n",
    "                    asos_name = soup.find('div', {\"class\":\"product-hero\"}).h1.get_text()\n",
    "                    asos_results['Name'] = asos_name\n",
    "\n",
    "                    # Material of product\n",
    "                    asos_aboutme = soup.find('div', {\"class\":\"about-me\"})\n",
    "                    asos_info = asos_aboutme.get_text().strip(\"\\n\").strip(\".\").split(\": \")[1:]\n",
    "                    asos_res = []\n",
    "                    for info in asos_info:\n",
    "                        asos_res.append(info.split(\", \"))\n",
    "                    asos_results['Material'] = list(itertools.chain.from_iterable(asos_res))\n",
    "\n",
    "                    # Color of product\n",
    "                    asos_color = driver.find_element_by_xpath('//*[@id=\"product-colour\"]/section/div/div/span').text\n",
    "                    asos_results['Color'] = asos_color\n",
    "\n",
    "                    # URL of product\n",
    "                    asos_results['URL'] = asos_url\n",
    "\n",
    "                    # Image tag of product\n",
    "                    asos_image = driver.find_element_by_xpath('//*[@id=\"product-gallery\"]/div[1]/div[2]/div[2]/div/div/div/div[1]/div[1]/div[3]/div/div/img').get_attribute('src')        \n",
    "                    asos_results['Image'] = asos_image\n",
    "                    \n",
    "                    # Description of product\n",
    "                    asos_description = []\n",
    "                    for description in soup.find('div', {\"class\":\"product-description\"}).find_all('li'):\n",
    "                        asos_description.append(description.text)\n",
    "                    asos_results['Description'] = asos_description\n",
    "                    \n",
    "                    # Add dict output to list\n",
    "                    results.append(asos_results)\n",
    "\n",
    "            except (NoSuchElementException, AttributeError):\n",
    "                if NoSuchElementException:\n",
    "                    failed.append(asos_url)\n",
    "                elif AttributeError:\n",
    "                    failed.append(asos_url)\n",
    "                pass\n",
    "            \n",
    "            # Write out to file to prevent filling memory\n",
    "            if len(results) >= n:\n",
    "                f = open(\"asos_table.csv\", \"a\")\n",
    "                writer = csv.DictWriter(\n",
    "                    f, fieldnames=['Name', 'Material', 'Color', 'URL', 'Image', 'Description'])\n",
    "                writer.writeheader()\n",
    "                writer.writerows(results)\n",
    "                f.close()\n",
    "                results = []\n",
    "            if len(failed) >= 10:\n",
    "                with open(\"failed.txt\", 'a') as ft:\n",
    "                    for row in failed:\n",
    "                        ft.write(str(row) + '\\n')\n",
    "                failed = []  \n",
    "\n",
    "    if len(results) > 0:            \n",
    "        f = open(\"asos_table.csv\", \"a\")\n",
    "        writer = csv.DictWriter(\n",
    "            f, fieldnames=['Name', 'Material', 'Color', 'URL', 'Image', 'Description'])\n",
    "        writer.writeheader()\n",
    "        writer.writerows(results)\n",
    "        f.close()\n",
    "        results = []\n",
    "    if len(failed) > 0:\n",
    "        with open(\"failed.txt\", 'a') as ft:\n",
    "            for row in failed:\n",
    "                ft.write(str(row) + '\\n')\n",
    "        failed = []\n",
    "        \n",
    "#     driver.quit()"
   ]
  },
  {
   "cell_type": "markdown",
   "metadata": {},
   "source": [
    "### Scraping by Brand"
   ]
  },
  {
   "cell_type": "code",
   "execution_count": 5,
   "metadata": {},
   "outputs": [
    {
     "ename": "NameError",
     "evalue": "name 'brand_dict_men' is not defined",
     "output_type": "error",
     "traceback": [
      "\u001b[1;31m---------------------------------------------------------------------------\u001b[0m",
      "\u001b[1;31mNameError\u001b[0m                                 Traceback (most recent call last)",
      "\u001b[1;32m<ipython-input-5-c56205e1f6f4>\u001b[0m in \u001b[0;36m<module>\u001b[1;34m\u001b[0m\n\u001b[0;32m      1\u001b[0m \u001b[1;32mwith\u001b[0m \u001b[0mopen\u001b[0m\u001b[1;33m(\u001b[0m\u001b[1;34m'brand_dict.json'\u001b[0m\u001b[1;33m,\u001b[0m \u001b[1;34m'w'\u001b[0m\u001b[1;33m)\u001b[0m \u001b[1;32mas\u001b[0m \u001b[0mbm\u001b[0m\u001b[1;33m:\u001b[0m\u001b[1;33m\u001b[0m\u001b[1;33m\u001b[0m\u001b[0m\n\u001b[1;32m----> 2\u001b[1;33m     \u001b[0mbm\u001b[0m\u001b[1;33m.\u001b[0m\u001b[0mwrite\u001b[0m\u001b[1;33m(\u001b[0m\u001b[0mjson\u001b[0m\u001b[1;33m.\u001b[0m\u001b[0mdumps\u001b[0m\u001b[1;33m(\u001b[0m\u001b[0mbrand_dict_men\u001b[0m\u001b[1;33m)\u001b[0m\u001b[1;33m)\u001b[0m\u001b[1;33m\u001b[0m\u001b[1;33m\u001b[0m\u001b[0m\n\u001b[0m",
      "\u001b[1;31mNameError\u001b[0m: name 'brand_dict_men' is not defined"
     ]
    }
   ],
   "source": [
    "with open('brand_dict.json', 'w') as bm:\n",
    "    bm.write(json.dumps(brand_dict_men))"
   ]
  },
  {
   "cell_type": "code",
   "execution_count": null,
   "metadata": {},
   "outputs": [],
   "source": [
    "brand_dict = {}"
   ]
  },
  {
   "cell_type": "code",
   "execution_count": null,
   "metadata": {},
   "outputs": [],
   "source": [
    "women_url = \"https://www.asos.com/us/women/a-to-z-of-brands/cat/?cid=1340&nlid=ww|brands|top+brands\"\n",
    "brands_women = brand_sort(women_url)"
   ]
  },
  {
   "cell_type": "code",
   "execution_count": null,
   "metadata": {
    "scrolled": false
   },
   "outputs": [],
   "source": [
    "len(brands_women)"
   ]
  },
  {
   "cell_type": "code",
   "execution_count": null,
   "metadata": {
    "scrolled": true
   },
   "outputs": [],
   "source": [
    "for brand_url in brands_women:\n",
    "    brand_dict_women = brand_itemize(brand_url)"
   ]
  },
  {
   "cell_type": "code",
   "execution_count": null,
   "metadata": {},
   "outputs": [],
   "source": [
    "men_url = \"https://www.asos.com/us/men/a-to-z-of-brands/cat/?cid=1361&nlid=mw|brands|top+brands\"\n",
    "brands_men = brand_sort(men_url)"
   ]
  },
  {
   "cell_type": "code",
   "execution_count": null,
   "metadata": {},
   "outputs": [],
   "source": [
    "len(brands_men)"
   ]
  },
  {
   "cell_type": "code",
   "execution_count": null,
   "metadata": {},
   "outputs": [],
   "source": [
    "for brand_url in brands_men:\n",
    "    brand_dict_men = brand_itemize(brand_url)"
   ]
  },
  {
   "cell_type": "code",
   "execution_count": null,
   "metadata": {},
   "outputs": [],
   "source": [
    "# Save all brands as text\n",
    "all_brands = brands_women + brands_men\n",
    "with open(\"brands.txt\", 'w') as b:\n",
    "    for row in all_brands:\n",
    "        b.write(str(row) + '\\n')"
   ]
  },
  {
   "cell_type": "code",
   "execution_count": null,
   "metadata": {},
   "outputs": [],
   "source": [
    "# Save all brand+items in json \n",
    "with open('brand_dict.json', 'w') as bm:\n",
    "    bm.write(json.dumps(brand_dict_men))"
   ]
  },
  {
   "cell_type": "markdown",
   "metadata": {},
   "source": [
    "# Scraper"
   ]
  },
  {
   "cell_type": "code",
   "execution_count": null,
   "metadata": {},
   "outputs": [],
   "source": [
    "# Load all brand+items\n",
    "with open('brand_dict.json') as l:\n",
    "    brand_dict = json.load(l)"
   ]
  },
  {
   "cell_type": "code",
   "execution_count": null,
   "metadata": {},
   "outputs": [],
   "source": [
    "items_all = []\n",
    "brands = list(brand_dict.keys())\n",
    "for i in range(len(brands)):\n",
    "    items_all.append(brand_dict[brands[i]])"
   ]
  },
  {
   "cell_type": "code",
   "execution_count": null,
   "metadata": {},
   "outputs": [],
   "source": [
    "'''Pooling to optimize'''\n",
    "def chunkify(lst, n):\n",
    "    \"\"\"builds generator for dividing input lst into n chunks\"\"\"\n",
    "    for i in range(0, len(lst), n):\n",
    "        yield lst[i:i + n]"
   ]
  },
  {
   "cell_type": "code",
   "execution_count": null,
   "metadata": {},
   "outputs": [
    {
     "data": {
      "text/plain": [
       "584"
      ]
     },
     "execution_count": 6,
     "metadata": {},
     "output_type": "execute_result"
    }
   ],
   "source": [
    "len(items_all)"
   ]
  },
  {
   "cell_type": "code",
   "execution_count": null,
   "metadata": {},
   "outputs": [],
   "source": [
    "k = 0\n",
    "for i in range(0,len(items_all)):\n",
    "    k += len(items_all[i])"
   ]
  },
  {
   "cell_type": "code",
   "execution_count": null,
   "metadata": {},
   "outputs": [
    {
     "data": {
      "text/plain": [
       "107282"
      ]
     },
     "execution_count": 8,
     "metadata": {},
     "output_type": "execute_result"
    }
   ],
   "source": [
    "k"
   ]
  },
  {
   "cell_type": "code",
   "execution_count": null,
   "metadata": {},
   "outputs": [
    {
     "data": {
      "text/plain": [
       "18810"
      ]
     },
     "execution_count": 9,
     "metadata": {},
     "output_type": "execute_result"
    }
   ],
   "source": [
    "len(items_all[17])"
   ]
  },
  {
   "cell_type": "code",
   "execution_count": null,
   "metadata": {},
   "outputs": [
    {
     "data": {
      "text/plain": [
       "100"
      ]
     },
     "execution_count": 68,
     "metadata": {},
     "output_type": "execute_result"
    }
   ],
   "source": [
    "new = items_all[17][2000:2100]\n",
    "len(new)"
   ]
  },
  {
   "cell_type": "code",
   "execution_count": null,
   "metadata": {},
   "outputs": [
    {
     "data": {
      "text/plain": [
       "3603"
      ]
     },
     "execution_count": 73,
     "metadata": {},
     "output_type": "execute_result"
    }
   ],
   "source": [
    "failed = open('failed.txt','r').readlines()\n",
    "len(failed)"
   ]
  },
  {
   "cell_type": "code",
   "execution_count": null,
   "metadata": {
    "scrolled": false
   },
   "outputs": [
    {
     "data": {
      "text/html": [
       "<div>\n",
       "<style scoped>\n",
       "    .dataframe tbody tr th:only-of-type {\n",
       "        vertical-align: middle;\n",
       "    }\n",
       "\n",
       "    .dataframe tbody tr th {\n",
       "        vertical-align: top;\n",
       "    }\n",
       "\n",
       "    .dataframe thead th {\n",
       "        text-align: right;\n",
       "    }\n",
       "</style>\n",
       "<table border=\"1\" class=\"dataframe\">\n",
       "  <thead>\n",
       "    <tr style=\"text-align: right;\">\n",
       "      <th></th>\n",
       "      <th>Name</th>\n",
       "      <th>Material</th>\n",
       "      <th>Color</th>\n",
       "      <th>URL</th>\n",
       "      <th>Image</th>\n",
       "      <th>Description</th>\n",
       "    </tr>\n",
       "  </thead>\n",
       "  <tbody>\n",
       "    <tr>\n",
       "      <th>0</th>\n",
       "      <td>Abercrombie &amp; Fitch v neck t-shirt</td>\n",
       "      <td>['60% Cotton', '40% Viscose']</td>\n",
       "      <td>Black</td>\n",
       "      <td>https://www.asos.com/us/abercrombie-fitch/aber...</td>\n",
       "      <td>https://images.asos-media.com/products/abercro...</td>\n",
       "      <td>['For your daytime thing', 'V-neck', 'Short sl...</td>\n",
       "    </tr>\n",
       "    <tr>\n",
       "      <th>1</th>\n",
       "      <td>Abercrombie &amp; Fitch deep v neck t-shirt</td>\n",
       "      <td>['60% Cotton', '40% Viscose']</td>\n",
       "      <td>Grey</td>\n",
       "      <td>https://www.asos.com/us/abercrombie-fitch/aber...</td>\n",
       "      <td>https://images.asos-media.com/products/abercro...</td>\n",
       "      <td>['Some serious daytime inspiration right here'...</td>\n",
       "    </tr>\n",
       "    <tr>\n",
       "      <th>2</th>\n",
       "      <td>Abercrombie &amp; Fitch eyelash knit slim v-neck s...</td>\n",
       "      <td>['59% Nylon', '41% Acrylic']</td>\n",
       "      <td>Cream</td>\n",
       "      <td>https://www.asos.com/us/abercrombie-fitch/aber...</td>\n",
       "      <td>https://images.asos-media.com/products/abercro...</td>\n",
       "      <td>['Cozy never looked so good', 'V-neck', 'Ribbe...</td>\n",
       "    </tr>\n",
       "    <tr>\n",
       "      <th>3</th>\n",
       "      <td>Abercrombie &amp; Fitch longline cozy high neck sw...</td>\n",
       "      <td>['70% Acrylic', '14% Nylon', '8% Viscose', '8%...</td>\n",
       "      <td>Medium brown</td>\n",
       "      <td>https://www.asos.com/us/abercrombie-fitch/aber...</td>\n",
       "      <td>https://images.asos-media.com/products/abercro...</td>\n",
       "      <td>['Cozy never looked so good ', 'Roll-neck', 'D...</td>\n",
       "    </tr>\n",
       "    <tr>\n",
       "      <th>4</th>\n",
       "      <td>Abercrombie &amp; Fitch longline cozy high neck sw...</td>\n",
       "      <td>['70% Acrylic', '14% Nylon', '8% Viscose', '8%...</td>\n",
       "      <td>Charcoal</td>\n",
       "      <td>https://www.asos.com/us/abercrombie-fitch/aber...</td>\n",
       "      <td>https://images.asos-media.com/products/abercro...</td>\n",
       "      <td>['Cozy never looked so good ', 'Roll-neck', 'D...</td>\n",
       "    </tr>\n",
       "    <tr>\n",
       "      <th>...</th>\n",
       "      <td>...</td>\n",
       "      <td>...</td>\n",
       "      <td>...</td>\n",
       "      <td>...</td>\n",
       "      <td>...</td>\n",
       "      <td>...</td>\n",
       "    </tr>\n",
       "    <tr>\n",
       "      <th>19930</th>\n",
       "      <td>Name</td>\n",
       "      <td>Material</td>\n",
       "      <td>Color</td>\n",
       "      <td>URL</td>\n",
       "      <td>Image</td>\n",
       "      <td>Description</td>\n",
       "    </tr>\n",
       "    <tr>\n",
       "      <th>19931</th>\n",
       "      <td>ASOS DESIGN 3 pack face covering in polka dot ...</td>\n",
       "      <td>['100% Cotton', 'Fabric 2', '99% Cotton', '1% ...</td>\n",
       "      <td>Multi</td>\n",
       "      <td>https://www.asos.com/us/asos-design/asos-desig...</td>\n",
       "      <td>https://images.asos-media.com/products/asos-de...</td>\n",
       "      <td>['Pack of three', 'Mixed pattern prints ', 'Pl...</td>\n",
       "    </tr>\n",
       "    <tr>\n",
       "      <th>19932</th>\n",
       "      <td>ASOS DESIGN cropped shirt in rust</td>\n",
       "      <td>['100% Viscose']</td>\n",
       "      <td>Rust</td>\n",
       "      <td>https://www.asos.com/us/asos-design/asos-desig...</td>\n",
       "      <td>https://images.asos-media.com/products/asos-de...</td>\n",
       "      <td>['File under: goes with everything ', 'Plain d...</td>\n",
       "    </tr>\n",
       "    <tr>\n",
       "      <th>19933</th>\n",
       "      <td>ASOS DESIGN tracksuit oversized sweat / jogger...</td>\n",
       "      <td>['55% Polyester', '45% Cotton', 'Trim', '88% C...</td>\n",
       "      <td>Gray marl</td>\n",
       "      <td>https://www.asos.com/us/asos-design/asos-desig...</td>\n",
       "      <td>https://images.asos-media.com/products/asos-de...</td>\n",
       "      <td>['Co-ordinating made easy', 'Tracksuit set', '...</td>\n",
       "    </tr>\n",
       "    <tr>\n",
       "      <th>19934</th>\n",
       "      <td>ASOS DESIGN Maternity tux top with angel sleev...</td>\n",
       "      <td>['100% Polyester']</td>\n",
       "      <td>Ivory</td>\n",
       "      <td>https://www.asos.com/us/asos-design/asos-desig...</td>\n",
       "      <td>https://images.asos-media.com/products/asos-de...</td>\n",
       "      <td>['For your everyday thing', 'V-neck', 'Wrap de...</td>\n",
       "    </tr>\n",
       "  </tbody>\n",
       "</table>\n",
       "<p>19935 rows × 6 columns</p>\n",
       "</div>"
      ],
      "text/plain": [
       "                                                    Name  \\\n",
       "0                     Abercrombie & Fitch v neck t-shirt   \n",
       "1                Abercrombie & Fitch deep v neck t-shirt   \n",
       "2      Abercrombie & Fitch eyelash knit slim v-neck s...   \n",
       "3      Abercrombie & Fitch longline cozy high neck sw...   \n",
       "4      Abercrombie & Fitch longline cozy high neck sw...   \n",
       "...                                                  ...   \n",
       "19930                                               Name   \n",
       "19931  ASOS DESIGN 3 pack face covering in polka dot ...   \n",
       "19932                  ASOS DESIGN cropped shirt in rust   \n",
       "19933  ASOS DESIGN tracksuit oversized sweat / jogger...   \n",
       "19934  ASOS DESIGN Maternity tux top with angel sleev...   \n",
       "\n",
       "                                                Material         Color  \\\n",
       "0                          ['60% Cotton', '40% Viscose']         Black   \n",
       "1                          ['60% Cotton', '40% Viscose']          Grey   \n",
       "2                           ['59% Nylon', '41% Acrylic']         Cream   \n",
       "3      ['70% Acrylic', '14% Nylon', '8% Viscose', '8%...  Medium brown   \n",
       "4      ['70% Acrylic', '14% Nylon', '8% Viscose', '8%...      Charcoal   \n",
       "...                                                  ...           ...   \n",
       "19930                                           Material         Color   \n",
       "19931  ['100% Cotton', 'Fabric 2', '99% Cotton', '1% ...         Multi   \n",
       "19932                                   ['100% Viscose']          Rust   \n",
       "19933  ['55% Polyester', '45% Cotton', 'Trim', '88% C...     Gray marl   \n",
       "19934                                 ['100% Polyester']         Ivory   \n",
       "\n",
       "                                                     URL  \\\n",
       "0      https://www.asos.com/us/abercrombie-fitch/aber...   \n",
       "1      https://www.asos.com/us/abercrombie-fitch/aber...   \n",
       "2      https://www.asos.com/us/abercrombie-fitch/aber...   \n",
       "3      https://www.asos.com/us/abercrombie-fitch/aber...   \n",
       "4      https://www.asos.com/us/abercrombie-fitch/aber...   \n",
       "...                                                  ...   \n",
       "19930                                                URL   \n",
       "19931  https://www.asos.com/us/asos-design/asos-desig...   \n",
       "19932  https://www.asos.com/us/asos-design/asos-desig...   \n",
       "19933  https://www.asos.com/us/asos-design/asos-desig...   \n",
       "19934  https://www.asos.com/us/asos-design/asos-desig...   \n",
       "\n",
       "                                                   Image  \\\n",
       "0      https://images.asos-media.com/products/abercro...   \n",
       "1      https://images.asos-media.com/products/abercro...   \n",
       "2      https://images.asos-media.com/products/abercro...   \n",
       "3      https://images.asos-media.com/products/abercro...   \n",
       "4      https://images.asos-media.com/products/abercro...   \n",
       "...                                                  ...   \n",
       "19930                                              Image   \n",
       "19931  https://images.asos-media.com/products/asos-de...   \n",
       "19932  https://images.asos-media.com/products/asos-de...   \n",
       "19933  https://images.asos-media.com/products/asos-de...   \n",
       "19934  https://images.asos-media.com/products/asos-de...   \n",
       "\n",
       "                                             Description  \n",
       "0      ['For your daytime thing', 'V-neck', 'Short sl...  \n",
       "1      ['Some serious daytime inspiration right here'...  \n",
       "2      ['Cozy never looked so good', 'V-neck', 'Ribbe...  \n",
       "3      ['Cozy never looked so good ', 'Roll-neck', 'D...  \n",
       "4      ['Cozy never looked so good ', 'Roll-neck', 'D...  \n",
       "...                                                  ...  \n",
       "19930                                        Description  \n",
       "19931  ['Pack of three', 'Mixed pattern prints ', 'Pl...  \n",
       "19932  ['File under: goes with everything ', 'Plain d...  \n",
       "19933  ['Co-ordinating made easy', 'Tracksuit set', '...  \n",
       "19934  ['For your everyday thing', 'V-neck', 'Wrap de...  \n",
       "\n",
       "[19935 rows x 6 columns]"
      ]
     },
     "execution_count": 74,
     "metadata": {},
     "output_type": "execute_result"
    }
   ],
   "source": [
    "asos_df = pd.read_csv('asos_table.csv')\n",
    "asos_df"
   ]
  },
  {
   "cell_type": "code",
   "execution_count": null,
   "metadata": {},
   "outputs": [
    {
     "data": {
      "text/plain": [
       "19935"
      ]
     },
     "execution_count": 75,
     "metadata": {},
     "output_type": "execute_result"
    }
   ],
   "source": [
    "url_list = [i for i in asos_df['URL']]\n",
    "len(url_list)"
   ]
  },
  {
   "cell_type": "code",
   "execution_count": null,
   "metadata": {
    "scrolled": false
   },
   "outputs": [
    {
     "name": "stderr",
     "output_type": "stream",
     "text": [
      "100%|██████████| 4/4 [00:40<00:00, 10.07s/it]\n",
      "100%|██████████| 4/4 [00:42<00:00, 10.50s/it]\n",
      "100%|██████████| 4/4 [00:44<00:00, 11.10s/it]\n",
      "100%|██████████| 4/4 [00:48<00:00, 12.00s/it]\n",
      "100%|██████████| 4/4 [00:42<00:00, 10.74s/it]\n",
      "100%|██████████| 4/4 [00:45<00:00, 11.26s/it]\n",
      "100%|██████████| 4/4 [00:48<00:00, 12.16s/it]\n",
      "100%|██████████| 4/4 [00:48<00:00, 12.01s/it]\n",
      "100%|██████████| 4/4 [00:42<00:00, 10.54s/it]\n",
      "100%|██████████| 4/4 [00:51<00:00, 12.93s/it]\n",
      "100%|██████████| 4/4 [00:46<00:00, 11.60s/it]\n",
      "100%|██████████| 4/4 [00:45<00:00, 11.30s/it]\n",
      "100%|██████████| 4/4 [00:38<00:00,  9.58s/it]\n",
      "100%|██████████| 4/4 [00:44<00:00, 11.01s/it]\n",
      "100%|██████████| 4/4 [00:49<00:00, 12.50s/it]\n",
      "100%|██████████| 4/4 [00:45<00:00, 11.48s/it]\n",
      "100%|██████████| 4/4 [00:47<00:00, 11.95s/it]\n",
      "100%|██████████| 4/4 [00:46<00:00, 11.58s/it]\n",
      "100%|██████████| 4/4 [00:52<00:00, 13.22s/it]\n",
      "100%|██████████| 4/4 [00:44<00:00, 11.13s/it]\n",
      "100%|██████████| 4/4 [00:40<00:00, 10.01s/it]\n",
      "100%|██████████| 4/4 [00:43<00:00, 10.85s/it]\n",
      "100%|██████████| 4/4 [00:42<00:00, 10.75s/it]\n",
      "100%|██████████| 4/4 [00:49<00:00, 12.36s/it]\n",
      "100%|██████████| 4/4 [00:27<00:00,  6.77s/it]\n"
     ]
    }
   ],
   "source": [
    "scraper_partial = partial(asos_scraper,url_list=url_list, n=50)\n",
    "chunked_basket = list(chunkify(new, 4))\n",
    "with Pool(4) as p:\n",
    "    p.map(scraper_partial, chunked_basket)"
   ]
  }
 ],
 "metadata": {
  "interpreter": {
   "hash": "7b6edf1972e686903e8d188d8727c93eb73c598b12c20b8d76c153accc2b22b7"
  },
  "kernelspec": {
   "display_name": "Python 3.8.5 64-bit ('base': conda)",
   "name": "python3"
  },
  "language_info": {
   "codemirror_mode": {
    "name": "ipython",
    "version": 3
   },
   "file_extension": ".py",
   "mimetype": "text/x-python",
   "name": "python",
   "nbconvert_exporter": "python",
   "pygments_lexer": "ipython3",
   "version": "3.8.5"
  }
 },
 "nbformat": 4,
 "nbformat_minor": 2
}
